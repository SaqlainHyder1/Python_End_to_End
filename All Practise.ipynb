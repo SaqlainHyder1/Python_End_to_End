{
 "cells": [
  {
   "cell_type": "markdown",
   "id": "b0b6242b",
   "metadata": {},
   "source": [
    "                            Python Basic's"
   ]
  },
  {
   "cell_type": "raw",
   "id": "29c6691f",
   "metadata": {},
   "source": [
    "- To Execute the cell press shift+enter.\n",
    "- whenever we are going to new cell,we have four types of cells,\n",
    "They are:\n",
    "1.code\n",
    "2.Markdown\n",
    "3.RawNBconvert\n",
    "4.Heading\n",
    "\n",
    "Code:\n",
    "    - if we need write any code just use the code cell.\n",
    "Markdown:\n",
    "    - Anytext we make as a heading or subtext we use Markdown.\n",
    "RawNBconvert:\n",
    "    - it is like a cell.which takes texts only but not executes.\n",
    "Heading:\n",
    "    - Any text we need make as a heading we use Heading cell.\n",
    "    - and it is reprenented as a #\n",
    "    - total we have six levels of headings.\n",
    "    \n",
    "\n"
   ]
  },
  {
   "cell_type": "markdown",
   "id": "1150862a",
   "metadata": {},
   "source": [
    "                              Data Types"
   ]
  },
  {
   "cell_type": "raw",
   "id": "6a09322b",
   "metadata": {},
   "source": [
    "There are 2 Types of Data Types:\n",
    "They are:\n",
    "    - primitive Data Types\n",
    "    - Non Primitive Data types\n",
    "Primitive Data Types:\n",
    "    - it is the combination alphabetic and numericals\n",
    "    Numercials:\n",
    "        -int------>1\n",
    "        -float---->1.2\n",
    "        -complex-->1+2j\n",
    "    Alphabetics:\n",
    "         -it the combinations of characherters.\n",
    "             - string---->a,b,c,d,.....\n",
    "- python is a line by line execution\n",
    "- if a=10 we save this in memory it will save in ram temporarily.\n",
    "- if anything is saved in memory and we need to see it means just call the varaible form python using caling varaible and print infornt of you.\n",
    "- if we are giving same values to a variable again and again then that variable is going to overide.\n"
   ]
  },
  {
   "cell_type": "markdown",
   "id": "0f4b1fe3",
   "metadata": {},
   "source": [
    "                               Variables"
   ]
  },
  {
   "cell_type": "raw",
   "id": "c74b57f8",
   "metadata": {},
   "source": [
    "- Varible is nothing but to store some information.\n",
    "to define a variable we need to give a variable name.\n",
    "for example:\n",
    "    a=10 #here assigning 10 to a.\n",
    "Rules to create a variable:\n",
    "    - Variable name should not starts with a number.\n",
    "    - instead of if you need to starts with number use underscore(_).\n",
    "    - no white space and blank space is allowed.\n",
    "    - pyhton is a case senstive.\n",
    "    - no any speacial charcahters are used.\n",
    "    !@$%^#&*()_+=\".,/?\";\n",
    "    "
   ]
  },
  {
   "cell_type": "code",
   "execution_count": 1,
   "id": "684619fc",
   "metadata": {},
   "outputs": [
    {
     "data": {
      "text/plain": [
       "10"
      ]
     },
     "execution_count": 1,
     "metadata": {},
     "output_type": "execute_result"
    }
   ],
   "source": [
    "a=10\n",
    "a"
   ]
  },
  {
   "cell_type": "code",
   "execution_count": 2,
   "id": "73f04d49",
   "metadata": {},
   "outputs": [
    {
     "name": "stdout",
     "output_type": "stream",
     "text": [
      "20\n"
     ]
    }
   ],
   "source": [
    "b=20\n",
    "print(b)"
   ]
  },
  {
   "cell_type": "markdown",
   "id": "77d3e3b9",
   "metadata": {},
   "source": [
    "                        Print Condition"
   ]
  },
  {
   "cell_type": "raw",
   "id": "e729e822",
   "metadata": {},
   "source": [
    "print(\"\"\"i love python\"\"\"), it is version 1\n",
    "print(\"i love python\"),it is version 2\n",
    "print('i love python'), it is prsent using verion.\n"
   ]
  },
  {
   "cell_type": "code",
   "execution_count": 3,
   "id": "933d590c",
   "metadata": {},
   "outputs": [
    {
     "name": "stdout",
     "output_type": "stream",
     "text": [
      "i love python\n",
      "i love python\n",
      "i love python\n"
     ]
    }
   ],
   "source": [
    "print(\"\"\"i love python\"\"\")# it is version 1\n",
    "print(\"i love python\")# it is version 2\n",
    "print('i love python')# present version"
   ]
  },
  {
   "cell_type": "markdown",
   "id": "66e46fe4",
   "metadata": {},
   "source": [
    "                       Type Converstions"
   ]
  },
  {
   "cell_type": "raw",
   "id": "942edaf7",
   "metadata": {},
   "source": [
    "Type converstions means chaning one data types to another data type is known as type converstions.\n",
    "int-float,int-str\n",
    "float-str,float-int\n",
    "str-int,str-float"
   ]
  },
  {
   "cell_type": "code",
   "execution_count": 5,
   "id": "c35df455",
   "metadata": {},
   "outputs": [
    {
     "name": "stdout",
     "output_type": "stream",
     "text": [
      "10\n",
      "10.0\n",
      "<class 'int'>\n",
      "<class 'float'>\n"
     ]
    }
   ],
   "source": [
    "#int-float,int-str\n",
    "#int-float:\n",
    "a=10\n",
    "b=float(a)\n",
    "print(a)\n",
    "print(b)\n",
    "print(type(a))\n",
    "print(type(b))"
   ]
  },
  {
   "cell_type": "code",
   "execution_count": 6,
   "id": "8c4455c7",
   "metadata": {},
   "outputs": [
    {
     "name": "stdout",
     "output_type": "stream",
     "text": [
      "10 <class 'int'>\n",
      "10 <class 'str'>\n"
     ]
    }
   ],
   "source": [
    "#int-str\n",
    "a=10\n",
    "b=str(a)\n",
    "print(a,type(a))\n",
    "print(b,type(b))"
   ]
  },
  {
   "cell_type": "code",
   "execution_count": 9,
   "id": "16c6baa5",
   "metadata": {},
   "outputs": [
    {
     "name": "stdout",
     "output_type": "stream",
     "text": [
      "10.0 <class 'float'>\n",
      "10.0 <class 'str'>\n"
     ]
    }
   ],
   "source": [
    "#float-str,float-int\n",
    "#float-str:\n",
    "a=10.0\n",
    "b=str(a)\n",
    "print(a,type(a))\n",
    "print(b,type(b))"
   ]
  },
  {
   "cell_type": "code",
   "execution_count": 10,
   "id": "f9c67ffe",
   "metadata": {},
   "outputs": [
    {
     "name": "stdout",
     "output_type": "stream",
     "text": [
      "10.0 <class 'float'>\n",
      "10 <class 'int'>\n"
     ]
    }
   ],
   "source": [
    "#float-int:\n",
    "a=10.0\n",
    "b=int(a)\n",
    "print(a,type(a))\n",
    "print(b,type(b))\n"
   ]
  },
  {
   "cell_type": "code",
   "execution_count": 13,
   "id": "0e2baab3",
   "metadata": {},
   "outputs": [
    {
     "name": "stdout",
     "output_type": "stream",
     "text": [
      "10 <class 'str'>\n",
      "10 <class 'int'>\n"
     ]
    }
   ],
   "source": [
    "#str-int:\n",
    "a='10'\n",
    "b=int(a)\n",
    "print(a,type(a))\n",
    "print(b,type(b))"
   ]
  },
  {
   "cell_type": "code",
   "execution_count": 14,
   "id": "a766c41c",
   "metadata": {},
   "outputs": [
    {
     "name": "stdout",
     "output_type": "stream",
     "text": [
      "10 <class 'str'>\n",
      "10.0 <class 'float'>\n"
     ]
    }
   ],
   "source": [
    "#str-float\n",
    "a='10'\n",
    "b=float(a)\n",
    "print(a,type(a))\n",
    "print(b,type(b))"
   ]
  },
  {
   "cell_type": "markdown",
   "id": "105664e4",
   "metadata": {},
   "source": [
    "                        Uses Of Prits"
   ]
  },
  {
   "cell_type": "raw",
   "id": "e70b9688",
   "metadata": {},
   "source": [
    "- we can call the variable from memory and also we can print whatever we need by just passing string inside the print\n",
    "And we can add a string and varaible to a print by just using some specail charchters.\n",
    "they are:\n",
    "1.using comma(,)\n",
    "2.using +\n",
    "3.using {}\n",
    "Using Comma(,):\n",
    "    - ,comma is used a add a string and variable in a print condition.\n",
    "    - ,comma is also provided 1 tab space defualtly.\n",
    "Using +:\n",
    "    - + will add if both are str.\n",
    "Using {}:\n",
    "    - it is so easy to add a string and variable because in real time everyone will use this method only"
   ]
  },
  {
   "cell_type": "code",
   "execution_count": 15,
   "id": "f870a2c1",
   "metadata": {},
   "outputs": [
    {
     "name": "stdout",
     "output_type": "stream",
     "text": [
      "my name is saqlain and i love to do pratcise\n"
     ]
    }
   ],
   "source": [
    "print('my name is saqlain and i love to do pratcise')"
   ]
  },
  {
   "cell_type": "code",
   "execution_count": 16,
   "id": "aa1477f1",
   "metadata": {},
   "outputs": [
    {
     "name": "stdout",
     "output_type": "stream",
     "text": [
      "i need to spend 100 rupees to buy a charger\n"
     ]
    }
   ],
   "source": [
    "#using comma:\n",
    "# i need to spend 100 rupees to buy a charger\n",
    "a=100\n",
    "b='buy'\n",
    "c='charger'\n",
    "print('i need to spend',a,'rupees to',b,'a',c)"
   ]
  },
  {
   "cell_type": "code",
   "execution_count": 23,
   "id": "2135a8ca",
   "metadata": {},
   "outputs": [
    {
     "name": "stdout",
     "output_type": "stream",
     "text": [
      "i need to gohyderabadbut bus fare is100\n"
     ]
    }
   ],
   "source": [
    "#using +\n",
    "#i need to go hyderabad but bus fare is 100 rs.\n",
    "a='hyderabad'\n",
    "b='100'\n",
    "print('i need to go'  +a+ 'but bus fare is' +b)"
   ]
  },
  {
   "cell_type": "code",
   "execution_count": 25,
   "id": "021097df",
   "metadata": {},
   "outputs": [
    {
     "name": "stdout",
     "output_type": "stream",
     "text": [
      "data analysis is best course,comaparing with other software courses\n"
     ]
    }
   ],
   "source": [
    "#using {}:\n",
    "#data analysis is best course,comaparing with other software courses\n",
    "a='data analysis'\n",
    "b='comaparing'\n",
    "c='software'\n",
    "print(f'{a} is best course,{b} with other {c} courses')"
   ]
  },
  {
   "cell_type": "markdown",
   "id": "f78ca9ec",
   "metadata": {},
   "source": [
    "                            operators"
   ]
  },
  {
   "cell_type": "raw",
   "id": "c0214d2d",
   "metadata": {},
   "source": [
    "+ -->Addition\n",
    "- -->Subraction\n",
    "* -->Multiplcation\n",
    "/ -->Division\n",
    "// ->Floor Division\n",
    "pow->Powerfunction(x,y)\n",
    "> -->Grether than\n",
    "< -->Less than\n",
    ">= ->Grether than or equals to\n",
    "<= ->Less than or equals to\n",
    "= --> equals to\n",
    "== ->double equals to\n",
    "!= -> Not Equals to\n",
    "% --> Mod Operator\n",
    "** ->power"
   ]
  },
  {
   "cell_type": "code",
   "execution_count": 26,
   "id": "9e2edaca",
   "metadata": {},
   "outputs": [
    {
     "name": "stdout",
     "output_type": "stream",
     "text": [
      "30\n"
     ]
    }
   ],
   "source": [
    "# +(Additon):\n",
    "a=10\n",
    "b=20\n",
    "c=a+b\n",
    "print(c)"
   ]
  },
  {
   "cell_type": "code",
   "execution_count": 28,
   "id": "0c0e4759",
   "metadata": {},
   "outputs": [
    {
     "data": {
      "text/plain": [
       "-10"
      ]
     },
     "execution_count": 28,
     "metadata": {},
     "output_type": "execute_result"
    }
   ],
   "source": [
    "# -(subraction):\n",
    "a=10\n",
    "b=20\n",
    "c=a-b\n",
    "c"
   ]
  },
  {
   "cell_type": "code",
   "execution_count": 29,
   "id": "ed273733",
   "metadata": {},
   "outputs": [
    {
     "name": "stdout",
     "output_type": "stream",
     "text": [
      "20\n"
     ]
    }
   ],
   "source": [
    "# *(multiplaction)\n",
    "a=10\n",
    "b=2\n",
    "print(a*b)"
   ]
  },
  {
   "cell_type": "code",
   "execution_count": 30,
   "id": "dd14e3fb",
   "metadata": {},
   "outputs": [
    {
     "data": {
      "text/plain": [
       "5.0"
      ]
     },
     "execution_count": 30,
     "metadata": {},
     "output_type": "execute_result"
    }
   ],
   "source": [
    "# / (division)\n",
    "a=10\n",
    "b=2\n",
    "a/b"
   ]
  },
  {
   "cell_type": "code",
   "execution_count": 31,
   "id": "da7036b4",
   "metadata": {},
   "outputs": [
    {
     "data": {
      "text/plain": [
       "5"
      ]
     },
     "execution_count": 31,
     "metadata": {},
     "output_type": "execute_result"
    }
   ],
   "source": [
    "# //(floor division)\n",
    "a=10\n",
    "b=2\n",
    "a//b"
   ]
  },
  {
   "cell_type": "code",
   "execution_count": 33,
   "id": "89aeb136",
   "metadata": {},
   "outputs": [
    {
     "data": {
      "text/plain": [
       "32"
      ]
     },
     "execution_count": 33,
     "metadata": {},
     "output_type": "execute_result"
    }
   ],
   "source": [
    "#pow-powerfunction(x,y)\n",
    "pow(2,5)"
   ]
  },
  {
   "cell_type": "code",
   "execution_count": 34,
   "id": "b7b3262b",
   "metadata": {},
   "outputs": [
    {
     "data": {
      "text/plain": [
       "True"
      ]
     },
     "execution_count": 34,
     "metadata": {},
     "output_type": "execute_result"
    }
   ],
   "source": [
    "#<,>\n",
    "10<20"
   ]
  },
  {
   "cell_type": "code",
   "execution_count": 35,
   "id": "7a733c5c",
   "metadata": {},
   "outputs": [
    {
     "data": {
      "text/plain": [
       "False"
      ]
     },
     "execution_count": 35,
     "metadata": {},
     "output_type": "execute_result"
    }
   ],
   "source": [
    "10>20"
   ]
  },
  {
   "cell_type": "code",
   "execution_count": 37,
   "id": "4dafae4e",
   "metadata": {},
   "outputs": [
    {
     "data": {
      "text/plain": [
       "False"
      ]
     },
     "execution_count": 37,
     "metadata": {},
     "output_type": "execute_result"
    }
   ],
   "source": [
    "10<=9\n"
   ]
  },
  {
   "cell_type": "code",
   "execution_count": 38,
   "id": "2960ce86",
   "metadata": {},
   "outputs": [
    {
     "data": {
      "text/plain": [
       "False"
      ]
     },
     "execution_count": 38,
     "metadata": {},
     "output_type": "execute_result"
    }
   ],
   "source": [
    "10>=20"
   ]
  },
  {
   "cell_type": "code",
   "execution_count": 39,
   "id": "5d32f92e",
   "metadata": {},
   "outputs": [],
   "source": [
    "a=10"
   ]
  },
  {
   "cell_type": "code",
   "execution_count": 40,
   "id": "954ad1aa",
   "metadata": {},
   "outputs": [
    {
     "data": {
      "text/plain": [
       "True"
      ]
     },
     "execution_count": 40,
     "metadata": {},
     "output_type": "execute_result"
    }
   ],
   "source": [
    "a==10"
   ]
  },
  {
   "cell_type": "code",
   "execution_count": 42,
   "id": "53435b45",
   "metadata": {},
   "outputs": [
    {
     "data": {
      "text/plain": [
       "False"
      ]
     },
     "execution_count": 42,
     "metadata": {},
     "output_type": "execute_result"
    }
   ],
   "source": [
    "a=20\n",
    "a!=20"
   ]
  },
  {
   "cell_type": "code",
   "execution_count": 43,
   "id": "e4f942e1",
   "metadata": {},
   "outputs": [
    {
     "data": {
      "text/plain": [
       "0"
      ]
     },
     "execution_count": 43,
     "metadata": {},
     "output_type": "execute_result"
    }
   ],
   "source": [
    "a=10\n",
    "b=2\n",
    "a%b"
   ]
  },
  {
   "cell_type": "code",
   "execution_count": 44,
   "id": "d5740b7e",
   "metadata": {},
   "outputs": [
    {
     "data": {
      "text/plain": [
       "32"
      ]
     },
     "execution_count": 44,
     "metadata": {},
     "output_type": "execute_result"
    }
   ],
   "source": [
    "a=2\n",
    "b=5\n",
    "a**b"
   ]
  },
  {
   "cell_type": "markdown",
   "id": "ad4bacd9",
   "metadata": {},
   "source": [
    "                              Libraries"
   ]
  },
  {
   "cell_type": "raw",
   "id": "2289ff25",
   "metadata": {},
   "source": [
    "- in python software we have lot of libraries\n",
    "for ex math,pandas,numby,metopolips\n",
    "- each libraries have lot of functions\n",
    "function:\n",
    "    - the task should be done which is assigned \n",
    "    - each function has its unique work\n",
    "    - to use python libraries we need to import them\n",
    "    syntax: ---> import <Lib name>\n",
    "    - use librarie name name and single dout/tab to use all functions avaible in libraries.\n",
    "    - inside a librarie we have lot of functions pick anyone of them and use them.."
   ]
  },
  {
   "cell_type": "markdown",
   "id": "ab1ed117",
   "metadata": {},
   "source": [
    "                           Python Data Structures"
   ]
  },
  {
   "cell_type": "raw",
   "id": "7f2c75e1",
   "metadata": {},
   "source": [
    "1.Strings\n",
    "2.List\n",
    "3.Touple\n",
    "4.Sets\n",
    "5.Dictionary\n",
    "\n",
    "Strings:\n",
    "    - String is a one of the data type which is defined as ''.\n",
    "    - in python string is created by enclosing the characheters.\n",
    "    - python allows us single quates,double quates or triple quates to create the string.\n",
    "String Index:\n",
    "    - string index means repersentating or giving some identity.\n",
    "    - in python string index starts with zero 0.\n",
    "Basically index is allocated into 2 types:\n",
    "1.Forward direction.\n",
    "2.backward direction.\n",
    "Forward direction:\n",
    "    - forward direction will always starts with zero.\n",
    "    - and backward direction will always starts with -1\n",
    "    - for an empty space also index is allocated\n",
    "    - if we save a variable and string in the memory then both forward and backward directions will be created.\n",
    "    \n",
    "\n",
    "Slicing:\n",
    "    -in index we can call a single charchter at a time.\n",
    "    - but in the slicing concept we can call a range of charcahters.\n",
    "    syntax---> var[s.i:e.i] and ending point will works with n-1 logic\n",
    "    - in slicing three concepts are most important\n",
    "    i.e.., var[s.p: ]\n",
    "           var[ :e.p]\n",
    "           var[ : ]\n",
    " \n",
    "For Reverse:\n",
    "    var[::-1]\n",
    "    \n",
    "Sikiping:\n",
    "    - To Escaping or skiping the value\n",
    "    syntax: var[::skip value]\n",
    "    \n",
    "- string is a immutable data type.\n",
    "- because here we can replace the memory space but we cannot add or delete the memory space.\n",
    "- mutable: means you can change the memory space\n",
    "- immutable: means you cannot change the memory space\n",
    "\n",
    "Built in Functions:\n",
    "    - string has some built in functions\n",
    "    - built in functions means the functions which are provided by python software.\n",
    "1.Capitalize: it is used to capital the first word in a sentence.\n",
    "2.title: it is used to capital every first letter in a word.\n",
    "3.replace:it is used to replace the word to the memory space.\n",
    "4.len: it is used to count the length of the variable.\n",
    "5.count: it is used to count the each word how many times it is repeting\n",
    "6.index: it is used to find the index of a variable.\n",
    "7.lower:it is used to convert all leters in small.\n",
    "8.upper: it is used to convert all letters in Capital.\n",
    "9.islower: it checks whether the all letters are in lower or not.\n",
    "10.isupper:it checks whether the all letters are in capital or not.\n",
    "11.isalpha:it checks alphabets or not.\n",
    "12.isnum: it checks numberic or not.\n",
    "13.isalphanum: it checks if alphabetics or number then returns true/false.\n",
    "14.membership functions: sub string present in a main string or not.\n",
    "15.Asscii concepts:\n",
    "\n",
    "\n",
    "\n",
    "\n",
    "\n",
    "\n"
   ]
  },
  {
   "cell_type": "code",
   "execution_count": 11,
   "id": "cad957f9",
   "metadata": {},
   "outputs": [],
   "source": [
    "a='hello'"
   ]
  },
  {
   "cell_type": "code",
   "execution_count": 13,
   "id": "3014c46b",
   "metadata": {},
   "outputs": [
    {
     "data": {
      "text/plain": [
       "'h'"
      ]
     },
     "execution_count": 13,
     "metadata": {},
     "output_type": "execute_result"
    }
   ],
   "source": [
    "a[0]"
   ]
  },
  {
   "cell_type": "code",
   "execution_count": 14,
   "id": "fc245341",
   "metadata": {},
   "outputs": [],
   "source": [
    "a='saqlain hyder'"
   ]
  },
  {
   "cell_type": "code",
   "execution_count": 19,
   "id": "a60f4fe2",
   "metadata": {},
   "outputs": [
    {
     "name": "stdout",
     "output_type": "stream",
     "text": [
      " \n"
     ]
    }
   ],
   "source": [
    "print(a[7])"
   ]
  },
  {
   "cell_type": "code",
   "execution_count": 20,
   "id": "2caadfab",
   "metadata": {},
   "outputs": [
    {
     "name": "stdout",
     "output_type": "stream",
     "text": [
      "d\n"
     ]
    }
   ],
   "source": [
    "print(a[10])"
   ]
  },
  {
   "cell_type": "code",
   "execution_count": 22,
   "id": "9380245d",
   "metadata": {},
   "outputs": [
    {
     "name": "stdout",
     "output_type": "stream",
     "text": [
      "r\n"
     ]
    }
   ],
   "source": [
    "print(a[-1])"
   ]
  },
  {
   "cell_type": "code",
   "execution_count": 23,
   "id": "4456af88",
   "metadata": {},
   "outputs": [
    {
     "name": "stdout",
     "output_type": "stream",
     "text": [
      "l\n"
     ]
    }
   ],
   "source": [
    "print(a[-10])"
   ]
  },
  {
   "cell_type": "code",
   "execution_count": 24,
   "id": "784a777f",
   "metadata": {},
   "outputs": [
    {
     "name": "stdout",
     "output_type": "stream",
     "text": [
      "saqlain hyder\n"
     ]
    }
   ],
   "source": [
    "print(a)"
   ]
  },
  {
   "cell_type": "code",
   "execution_count": 25,
   "id": "abef5aba",
   "metadata": {},
   "outputs": [
    {
     "name": "stdout",
     "output_type": "stream",
     "text": [
      "saqlain hy\n"
     ]
    }
   ],
   "source": [
    "print(a[0:10])"
   ]
  },
  {
   "cell_type": "code",
   "execution_count": 26,
   "id": "d790eb33",
   "metadata": {},
   "outputs": [
    {
     "name": "stdout",
     "output_type": "stream",
     "text": [
      "aq\n"
     ]
    }
   ],
   "source": [
    "print(a[1:3])"
   ]
  },
  {
   "cell_type": "code",
   "execution_count": 27,
   "id": "d14d607c",
   "metadata": {},
   "outputs": [
    {
     "name": "stdout",
     "output_type": "stream",
     "text": [
      "redyh nialqas\n"
     ]
    }
   ],
   "source": [
    "print(a[::-1])"
   ]
  },
  {
   "cell_type": "code",
   "execution_count": 29,
   "id": "6da22a82",
   "metadata": {},
   "outputs": [
    {
     "name": "stdout",
     "output_type": "stream",
     "text": [
      "\n"
     ]
    }
   ],
   "source": [
    "print(a[0:5:-1])"
   ]
  },
  {
   "cell_type": "code",
   "execution_count": 30,
   "id": "5a11bf4c",
   "metadata": {},
   "outputs": [
    {
     "data": {
      "text/plain": [
       "'saqlain hyder'"
      ]
     },
     "execution_count": 30,
     "metadata": {},
     "output_type": "execute_result"
    }
   ],
   "source": [
    "a"
   ]
  },
  {
   "cell_type": "code",
   "execution_count": 31,
   "id": "a0ec3323",
   "metadata": {},
   "outputs": [
    {
     "name": "stdout",
     "output_type": "stream",
     "text": [
      "sqan\n"
     ]
    }
   ],
   "source": [
    "print(a[0:7:2])"
   ]
  },
  {
   "cell_type": "code",
   "execution_count": 32,
   "id": "948bd25a",
   "metadata": {},
   "outputs": [],
   "source": [
    "a='i love python'"
   ]
  },
  {
   "cell_type": "code",
   "execution_count": 33,
   "id": "e422b991",
   "metadata": {},
   "outputs": [
    {
     "name": "stdout",
     "output_type": "stream",
     "text": [
      "I love python\n"
     ]
    }
   ],
   "source": [
    "print(a.capitalize())"
   ]
  },
  {
   "cell_type": "code",
   "execution_count": 34,
   "id": "4353cb05",
   "metadata": {},
   "outputs": [
    {
     "name": "stdout",
     "output_type": "stream",
     "text": [
      "I Love Python\n"
     ]
    }
   ],
   "source": [
    "print(a.title())"
   ]
  },
  {
   "cell_type": "code",
   "execution_count": 35,
   "id": "e0768406",
   "metadata": {},
   "outputs": [
    {
     "name": "stdout",
     "output_type": "stream",
     "text": [
      "i love python\n"
     ]
    }
   ],
   "source": [
    "print(a)"
   ]
  },
  {
   "cell_type": "code",
   "execution_count": 37,
   "id": "f3d4c11d",
   "metadata": {},
   "outputs": [
    {
     "name": "stdout",
     "output_type": "stream",
     "text": [
      "13\n"
     ]
    }
   ],
   "source": [
    "print(len(a))"
   ]
  },
  {
   "cell_type": "code",
   "execution_count": 38,
   "id": "61e4436f",
   "metadata": {},
   "outputs": [
    {
     "name": "stdout",
     "output_type": "stream",
     "text": [
      "i like python\n"
     ]
    }
   ],
   "source": [
    "print(a.replace('love','like'))"
   ]
  },
  {
   "cell_type": "code",
   "execution_count": 45,
   "id": "18d4ade5",
   "metadata": {},
   "outputs": [
    {
     "name": "stdout",
     "output_type": "stream",
     "text": [
      "2\n"
     ]
    }
   ],
   "source": [
    "print(a.count('o'))"
   ]
  },
  {
   "cell_type": "code",
   "execution_count": 44,
   "id": "7d248018",
   "metadata": {},
   "outputs": [
    {
     "data": {
      "text/plain": [
       "'i love python'"
      ]
     },
     "execution_count": 44,
     "metadata": {},
     "output_type": "execute_result"
    }
   ],
   "source": [
    "a"
   ]
  },
  {
   "cell_type": "code",
   "execution_count": 46,
   "id": "3c26997a",
   "metadata": {},
   "outputs": [
    {
     "name": "stdout",
     "output_type": "stream",
     "text": [
      "0\n"
     ]
    }
   ],
   "source": [
    "print(a.index('i'))"
   ]
  },
  {
   "cell_type": "code",
   "execution_count": 47,
   "id": "495fa925",
   "metadata": {},
   "outputs": [
    {
     "name": "stdout",
     "output_type": "stream",
     "text": [
      "8\n"
     ]
    }
   ],
   "source": [
    "print(a.index('y'))"
   ]
  },
  {
   "cell_type": "code",
   "execution_count": 48,
   "id": "caadd033",
   "metadata": {},
   "outputs": [
    {
     "name": "stdout",
     "output_type": "stream",
     "text": [
      "l\n"
     ]
    }
   ],
   "source": [
    "print(a[2])"
   ]
  },
  {
   "cell_type": "code",
   "execution_count": 49,
   "id": "58e897a9",
   "metadata": {},
   "outputs": [
    {
     "name": "stdout",
     "output_type": "stream",
     "text": [
      "i love python\n"
     ]
    }
   ],
   "source": [
    "print(a.lower())"
   ]
  },
  {
   "cell_type": "code",
   "execution_count": 50,
   "id": "895787a1",
   "metadata": {},
   "outputs": [
    {
     "name": "stdout",
     "output_type": "stream",
     "text": [
      "I LOVE PYTHON\n"
     ]
    }
   ],
   "source": [
    "print(a.upper())"
   ]
  },
  {
   "cell_type": "code",
   "execution_count": 51,
   "id": "409624a5",
   "metadata": {},
   "outputs": [
    {
     "name": "stdout",
     "output_type": "stream",
     "text": [
      "True\n"
     ]
    }
   ],
   "source": [
    "print(a.islower())"
   ]
  },
  {
   "cell_type": "code",
   "execution_count": 52,
   "id": "04d68462",
   "metadata": {},
   "outputs": [
    {
     "name": "stdout",
     "output_type": "stream",
     "text": [
      "False\n"
     ]
    }
   ],
   "source": [
    "print(a.isupper())"
   ]
  },
  {
   "cell_type": "code",
   "execution_count": 53,
   "id": "9fc95c3d",
   "metadata": {},
   "outputs": [
    {
     "name": "stdout",
     "output_type": "stream",
     "text": [
      "False\n"
     ]
    }
   ],
   "source": [
    "print(a.isalpha())"
   ]
  },
  {
   "cell_type": "code",
   "execution_count": 54,
   "id": "71ddbf97",
   "metadata": {},
   "outputs": [
    {
     "name": "stdout",
     "output_type": "stream",
     "text": [
      "False\n"
     ]
    }
   ],
   "source": [
    "print(a.isalnum())"
   ]
  },
  {
   "cell_type": "code",
   "execution_count": 57,
   "id": "382c6ba1",
   "metadata": {},
   "outputs": [
    {
     "name": "stdout",
     "output_type": "stream",
     "text": [
      "False\n"
     ]
    }
   ],
   "source": [
    "print(a.isnumeric())"
   ]
  },
  {
   "cell_type": "code",
   "execution_count": 58,
   "id": "ef7c7bfb",
   "metadata": {},
   "outputs": [
    {
     "data": {
      "text/plain": [
       "'i love python'"
      ]
     },
     "execution_count": 58,
     "metadata": {},
     "output_type": "execute_result"
    }
   ],
   "source": [
    "a"
   ]
  },
  {
   "cell_type": "code",
   "execution_count": 61,
   "id": "474ec88e",
   "metadata": {},
   "outputs": [
    {
     "name": "stdout",
     "output_type": "stream",
     "text": [
      "False\n"
     ]
    }
   ],
   "source": [
    "print('v' not in a)"
   ]
  },
  {
   "cell_type": "code",
   "execution_count": 65,
   "id": "0cb62c87",
   "metadata": {},
   "outputs": [],
   "source": [
    "a=\"ab\"\n",
    "A=\"AB\""
   ]
  },
  {
   "cell_type": "code",
   "execution_count": 66,
   "id": "5f894d50",
   "metadata": {},
   "outputs": [
    {
     "data": {
      "text/plain": [
       "True"
      ]
     },
     "execution_count": 66,
     "metadata": {},
     "output_type": "execute_result"
    }
   ],
   "source": [
    "a>A"
   ]
  },
  {
   "cell_type": "code",
   "execution_count": 68,
   "id": "db83de68",
   "metadata": {},
   "outputs": [
    {
     "data": {
      "text/plain": [
       "97"
      ]
     },
     "execution_count": 68,
     "metadata": {},
     "output_type": "execute_result"
    }
   ],
   "source": [
    "ord('a')"
   ]
  },
  {
   "cell_type": "code",
   "execution_count": 69,
   "id": "7e5a414f",
   "metadata": {},
   "outputs": [
    {
     "data": {
      "text/plain": [
       "'a'"
      ]
     },
     "execution_count": 69,
     "metadata": {},
     "output_type": "execute_result"
    }
   ],
   "source": [
    "chr(97)"
   ]
  },
  {
   "cell_type": "markdown",
   "id": "844f834d",
   "metadata": {},
   "source": [
    "                                   List"
   ]
  },
  {
   "cell_type": "raw",
   "id": "ddbc85fe",
   "metadata": {},
   "source": [
    "- list is ordered pair.\n",
    "- list is mutable data type\n",
    "- means we can increase the memory space or we can decrese the memory space.\n",
    "- list is represented as [].\n",
    "- list will accepts any data type value.\n",
    "\n",
    "Built in Functions:\n",
    "1.Append: it is used to add a word at the end.\n",
    "2.Clear: it is used to clear the data available in the varaible but variable is alive.\n",
    "3.Copy: it i used to copy from one variable to another variable.\n",
    "4.Count: it is used to count the no of words.\n",
    "5.Index: it is used to find the index value.\n",
    "6.extend: it is used to add mutiple words at the end of list.\n",
    "7.insert: it is used to insert any word,wherever we need.\n",
    "8.pop:it is used to remove the last index.\n",
    "9.remove:it is used to remove a value directly.\n",
    "10.reverse:it used to reverse the list.\n",
    "11.sort:it is used to convert the list in accending and decending order."
   ]
  },
  {
   "cell_type": "code",
   "execution_count": 70,
   "id": "1daf3a8e",
   "metadata": {},
   "outputs": [],
   "source": [
    "a=[10,20,30,40,50]"
   ]
  },
  {
   "cell_type": "code",
   "execution_count": 71,
   "id": "a9fde052",
   "metadata": {},
   "outputs": [],
   "source": [
    "a.append(10)"
   ]
  },
  {
   "cell_type": "code",
   "execution_count": 72,
   "id": "d01de6d4",
   "metadata": {},
   "outputs": [
    {
     "data": {
      "text/plain": [
       "[10, 20, 30, 40, 50, 10]"
      ]
     },
     "execution_count": 72,
     "metadata": {},
     "output_type": "execute_result"
    }
   ],
   "source": [
    "a"
   ]
  },
  {
   "cell_type": "code",
   "execution_count": 73,
   "id": "a3499d44",
   "metadata": {},
   "outputs": [],
   "source": [
    "b=a.copy()"
   ]
  },
  {
   "cell_type": "code",
   "execution_count": 74,
   "id": "077cb7e3",
   "metadata": {},
   "outputs": [
    {
     "data": {
      "text/plain": [
       "[10, 20, 30, 40, 50, 10]"
      ]
     },
     "execution_count": 74,
     "metadata": {},
     "output_type": "execute_result"
    }
   ],
   "source": [
    "b"
   ]
  },
  {
   "cell_type": "code",
   "execution_count": 75,
   "id": "6b9f0bad",
   "metadata": {},
   "outputs": [],
   "source": [
    "b.clear()"
   ]
  },
  {
   "cell_type": "code",
   "execution_count": 76,
   "id": "7462f848",
   "metadata": {},
   "outputs": [
    {
     "data": {
      "text/plain": [
       "[]"
      ]
     },
     "execution_count": 76,
     "metadata": {},
     "output_type": "execute_result"
    }
   ],
   "source": [
    "b"
   ]
  },
  {
   "cell_type": "code",
   "execution_count": 77,
   "id": "9d351092",
   "metadata": {},
   "outputs": [
    {
     "data": {
      "text/plain": [
       "[10, 20, 30, 40, 50, 10]"
      ]
     },
     "execution_count": 77,
     "metadata": {},
     "output_type": "execute_result"
    }
   ],
   "source": [
    "a"
   ]
  },
  {
   "cell_type": "code",
   "execution_count": 78,
   "id": "0c24d621",
   "metadata": {},
   "outputs": [
    {
     "data": {
      "text/plain": [
       "2"
      ]
     },
     "execution_count": 78,
     "metadata": {},
     "output_type": "execute_result"
    }
   ],
   "source": [
    "a.count(10)"
   ]
  },
  {
   "cell_type": "code",
   "execution_count": 80,
   "id": "3b4056b8",
   "metadata": {},
   "outputs": [
    {
     "data": {
      "text/plain": [
       "0"
      ]
     },
     "execution_count": 80,
     "metadata": {},
     "output_type": "execute_result"
    }
   ],
   "source": [
    "a.index(10)"
   ]
  },
  {
   "cell_type": "code",
   "execution_count": 84,
   "id": "1ee6beb5",
   "metadata": {},
   "outputs": [
    {
     "ename": "ValueError",
     "evalue": "10 is not in list",
     "output_type": "error",
     "traceback": [
      "\u001b[1;31m---------------------------------------------------------------------------\u001b[0m",
      "\u001b[1;31mValueError\u001b[0m                                Traceback (most recent call last)",
      "Cell \u001b[1;32mIn[84], line 1\u001b[0m\n\u001b[1;32m----> 1\u001b[0m a\u001b[38;5;241m.\u001b[39mindex(\u001b[38;5;241m10\u001b[39m,\u001b[38;5;241m3\u001b[39m,\u001b[38;5;241m5\u001b[39m)\n",
      "\u001b[1;31mValueError\u001b[0m: 10 is not in list"
     ]
    }
   ],
   "source": [
    "a.index(10,3,5)"
   ]
  },
  {
   "cell_type": "code",
   "execution_count": 86,
   "id": "ca01066f",
   "metadata": {},
   "outputs": [],
   "source": [
    "a.extend([10,20,30,50,60])"
   ]
  },
  {
   "cell_type": "code",
   "execution_count": 87,
   "id": "e0f67979",
   "metadata": {},
   "outputs": [
    {
     "data": {
      "text/plain": [
       "[10, 20, 30, 40, 50, 10, 10, 20, 30, 50, 60]"
      ]
     },
     "execution_count": 87,
     "metadata": {},
     "output_type": "execute_result"
    }
   ],
   "source": [
    "a"
   ]
  },
  {
   "cell_type": "code",
   "execution_count": 88,
   "id": "12e2005d",
   "metadata": {},
   "outputs": [],
   "source": [
    "a.insert(0,1)"
   ]
  },
  {
   "cell_type": "code",
   "execution_count": 89,
   "id": "c27bc896",
   "metadata": {},
   "outputs": [
    {
     "data": {
      "text/plain": [
       "[1, 10, 20, 30, 40, 50, 10, 10, 20, 30, 50, 60]"
      ]
     },
     "execution_count": 89,
     "metadata": {},
     "output_type": "execute_result"
    }
   ],
   "source": [
    "a\n"
   ]
  },
  {
   "cell_type": "code",
   "execution_count": 90,
   "id": "639fb30a",
   "metadata": {},
   "outputs": [
    {
     "data": {
      "text/plain": [
       "60"
      ]
     },
     "execution_count": 90,
     "metadata": {},
     "output_type": "execute_result"
    }
   ],
   "source": [
    "a.pop()"
   ]
  },
  {
   "cell_type": "code",
   "execution_count": 91,
   "id": "d3d7b7a0",
   "metadata": {},
   "outputs": [
    {
     "data": {
      "text/plain": [
       "[1, 10, 20, 30, 40, 50, 10, 10, 20, 30, 50]"
      ]
     },
     "execution_count": 91,
     "metadata": {},
     "output_type": "execute_result"
    }
   ],
   "source": [
    "a"
   ]
  },
  {
   "cell_type": "code",
   "execution_count": 92,
   "id": "a3fb9e51",
   "metadata": {},
   "outputs": [],
   "source": [
    "a.remove(10)"
   ]
  },
  {
   "cell_type": "code",
   "execution_count": 93,
   "id": "1eee4f9e",
   "metadata": {},
   "outputs": [
    {
     "data": {
      "text/plain": [
       "[1, 20, 30, 40, 50, 10, 10, 20, 30, 50]"
      ]
     },
     "execution_count": 93,
     "metadata": {},
     "output_type": "execute_result"
    }
   ],
   "source": [
    "a"
   ]
  },
  {
   "cell_type": "code",
   "execution_count": 94,
   "id": "cc64644a",
   "metadata": {},
   "outputs": [],
   "source": [
    "a.reverse()"
   ]
  },
  {
   "cell_type": "code",
   "execution_count": 95,
   "id": "f1a3e4a5",
   "metadata": {},
   "outputs": [
    {
     "data": {
      "text/plain": [
       "[50, 30, 20, 10, 10, 50, 40, 30, 20, 1]"
      ]
     },
     "execution_count": 95,
     "metadata": {},
     "output_type": "execute_result"
    }
   ],
   "source": [
    "a"
   ]
  },
  {
   "cell_type": "code",
   "execution_count": 96,
   "id": "afd39f2d",
   "metadata": {},
   "outputs": [],
   "source": [
    "a.sort()"
   ]
  },
  {
   "cell_type": "code",
   "execution_count": 97,
   "id": "d6945ed8",
   "metadata": {},
   "outputs": [
    {
     "data": {
      "text/plain": [
       "[1, 10, 10, 20, 20, 30, 30, 40, 50, 50]"
      ]
     },
     "execution_count": 97,
     "metadata": {},
     "output_type": "execute_result"
    }
   ],
   "source": [
    "a"
   ]
  },
  {
   "cell_type": "code",
   "execution_count": 98,
   "id": "5e27a464",
   "metadata": {},
   "outputs": [],
   "source": [
    "a.sort(reverse=True)"
   ]
  },
  {
   "cell_type": "code",
   "execution_count": 99,
   "id": "3a24e80f",
   "metadata": {},
   "outputs": [
    {
     "data": {
      "text/plain": [
       "[50, 50, 40, 30, 30, 20, 20, 10, 10, 1]"
      ]
     },
     "execution_count": 99,
     "metadata": {},
     "output_type": "execute_result"
    }
   ],
   "source": [
    "a"
   ]
  },
  {
   "cell_type": "markdown",
   "id": "a9b91dba",
   "metadata": {},
   "source": [
    "                                Touple"
   ]
  },
  {
   "cell_type": "raw",
   "id": "c501c58d",
   "metadata": {},
   "source": [
    "- Touple is a immutable data type.\n",
    "- means we cant add or delete the memory space\n",
    "- touple is represented as a ().\n",
    "- touple will accepts any datatype value.\n",
    "- you can pass as many values you want to the varaible in touple.\n",
    "\n",
    "Built in Functions:\n",
    "    - in python concept we have only 2 built in functions:\n",
    "    1.count \n",
    "    2.index\n",
    "#deep dive in index function..\n",
    "    list_name.index(element,s,e)\n",
    " \n",
    "Difference between string and touple:\n",
    "    - string is a immutable data type,so we can add or delete the memory space.\n",
    "    - touple is also same like string\n",
    "    - in string we have built in function replace.with the help of replace we can replace the data to memory.\n",
    "    - but in touple we have only 2 built in funtions they are count and index.so we cannot add or delete the memory space.\n",
    "    - so both are immutable data types."
   ]
  },
  {
   "cell_type": "code",
   "execution_count": 102,
   "id": "4b988b16",
   "metadata": {},
   "outputs": [],
   "source": [
    "a=10,20 #here i am passing two values to variable\n",
    "# bascially a varaible can hold single value.\n",
    "#acording to python if a varible which is holding morethan 1 value then it will treat like a touple."
   ]
  },
  {
   "cell_type": "code",
   "execution_count": 101,
   "id": "5649e200",
   "metadata": {},
   "outputs": [
    {
     "data": {
      "text/plain": [
       "tuple"
      ]
     },
     "execution_count": 101,
     "metadata": {},
     "output_type": "execute_result"
    }
   ],
   "source": [
    "a\n",
    "type(a)"
   ]
  },
  {
   "cell_type": "code",
   "execution_count": 103,
   "id": "6babff3d",
   "metadata": {},
   "outputs": [],
   "source": [
    "a=(10,20,-10,'saqqu')"
   ]
  },
  {
   "cell_type": "code",
   "execution_count": 104,
   "id": "00a545dc",
   "metadata": {},
   "outputs": [
    {
     "data": {
      "text/plain": [
       "(10, 20, -10, 'saqqu')"
      ]
     },
     "execution_count": 104,
     "metadata": {},
     "output_type": "execute_result"
    }
   ],
   "source": [
    "a"
   ]
  },
  {
   "cell_type": "code",
   "execution_count": 105,
   "id": "f94ea11b",
   "metadata": {},
   "outputs": [
    {
     "data": {
      "text/plain": [
       "1"
      ]
     },
     "execution_count": 105,
     "metadata": {},
     "output_type": "execute_result"
    }
   ],
   "source": [
    "a.count(10)"
   ]
  },
  {
   "cell_type": "code",
   "execution_count": 106,
   "id": "0866acd8",
   "metadata": {},
   "outputs": [
    {
     "data": {
      "text/plain": [
       "0"
      ]
     },
     "execution_count": 106,
     "metadata": {},
     "output_type": "execute_result"
    }
   ],
   "source": [
    "a.index(10)"
   ]
  },
  {
   "cell_type": "code",
   "execution_count": 109,
   "id": "bdd79520",
   "metadata": {},
   "outputs": [
    {
     "ename": "IndexError",
     "evalue": "tuple index out of range",
     "output_type": "error",
     "traceback": [
      "\u001b[1;31m---------------------------------------------------------------------------\u001b[0m",
      "\u001b[1;31mIndexError\u001b[0m                                Traceback (most recent call last)",
      "Cell \u001b[1;32mIn[109], line 1\u001b[0m\n\u001b[1;32m----> 1\u001b[0m \u001b[38;5;28mprint\u001b[39m(a[\u001b[38;5;241m10\u001b[39m])\n",
      "\u001b[1;31mIndexError\u001b[0m: tuple index out of range"
     ]
    }
   ],
   "source": []
  },
  {
   "cell_type": "code",
   "execution_count": 110,
   "id": "b3c65e8c",
   "metadata": {},
   "outputs": [],
   "source": [
    "d='hyder'"
   ]
  },
  {
   "cell_type": "code",
   "execution_count": 112,
   "id": "de238612",
   "metadata": {},
   "outputs": [
    {
     "name": "stdout",
     "output_type": "stream",
     "text": [
      "d\n"
     ]
    }
   ],
   "source": [
    "print(d[2])"
   ]
  },
  {
   "cell_type": "code",
   "execution_count": 113,
   "id": "f61b411d",
   "metadata": {},
   "outputs": [
    {
     "name": "stdout",
     "output_type": "stream",
     "text": [
      "0\n"
     ]
    }
   ],
   "source": [
    "print(d.index('h'))"
   ]
  },
  {
   "cell_type": "code",
   "execution_count": 114,
   "id": "ba2ac624",
   "metadata": {},
   "outputs": [],
   "source": [
    "a=(10,20,0,10,0,10,10,30,40)"
   ]
  },
  {
   "cell_type": "code",
   "execution_count": 115,
   "id": "c580946b",
   "metadata": {},
   "outputs": [
    {
     "name": "stdout",
     "output_type": "stream",
     "text": [
      "3\n"
     ]
    }
   ],
   "source": [
    "print(a.index(10,1,4))"
   ]
  },
  {
   "cell_type": "code",
   "execution_count": 116,
   "id": "73225ee6",
   "metadata": {},
   "outputs": [
    {
     "name": "stdout",
     "output_type": "stream",
     "text": [
      "4\n"
     ]
    }
   ],
   "source": [
    "print(a.index(0,3,7))"
   ]
  },
  {
   "cell_type": "markdown",
   "id": "850ca794",
   "metadata": {},
   "source": [
    "                                 Sets"
   ]
  },
  {
   "cell_type": "raw",
   "id": "64154065",
   "metadata": {},
   "source": [
    "- set is unordered pair.\n",
    "- set is a mutable data types.\n",
    "- means we can add or delete the memory space.\n",
    "- set will save the data in memory randomly.\n",
    "- every element will be unique.\n",
    "- set is reprsented as {}.\n",
    "\n",
    "Rules to remember in sets:\n",
    "    - set does not have concept index.if there is no index then no slicing and skiping concepts.\n",
    "    - set does not allows any dublicates.\n",
    "    - as set is  mutable data type. inside the set it won't accepts mutable data type.\n",
    "    - means only string and touple will accepts but not list and sets.\n",
    "    \n",
    "Built in Functions:\n",
    "    1.add: it is used to add a single value\n",
    "    2.update: it is used to add multiple values\n",
    "    3.pop: it will remove any value randomly\n",
    "    4.discard:if the value is avaible it will removes or else it remains silent\n",
    "    5.remove:if the value is availble it will removes or else it will through an error\n",
    "    6.copy: it is used to copy from one variable to another\n",
    "    7.clear:it is used to clear all the values availble in varaible but variable is alive.\n",
    "    8.union:it will add the two variables in a single variable.\n",
    "    9.intersection:it will gives common letter."
   ]
  },
  {
   "cell_type": "code",
   "execution_count": 117,
   "id": "6b50417b",
   "metadata": {},
   "outputs": [],
   "source": [
    "a={1,4,7,9,9,40}"
   ]
  },
  {
   "cell_type": "code",
   "execution_count": 118,
   "id": "496720f2",
   "metadata": {},
   "outputs": [
    {
     "data": {
      "text/plain": [
       "{1, 4, 7, 9, 40}"
      ]
     },
     "execution_count": 118,
     "metadata": {},
     "output_type": "execute_result"
    }
   ],
   "source": [
    "a"
   ]
  },
  {
   "cell_type": "code",
   "execution_count": 119,
   "id": "207f8b80",
   "metadata": {},
   "outputs": [
    {
     "name": "stdout",
     "output_type": "stream",
     "text": [
      "<class 'set'>\n"
     ]
    }
   ],
   "source": [
    "print(type(a))"
   ]
  },
  {
   "cell_type": "code",
   "execution_count": 120,
   "id": "d467f9c2",
   "metadata": {},
   "outputs": [],
   "source": [
    "a={10,20,30}"
   ]
  },
  {
   "cell_type": "code",
   "execution_count": 122,
   "id": "0b27026d",
   "metadata": {},
   "outputs": [
    {
     "ename": "TypeError",
     "evalue": "'set' object is not subscriptable",
     "output_type": "error",
     "traceback": [
      "\u001b[1;31m---------------------------------------------------------------------------\u001b[0m",
      "\u001b[1;31mTypeError\u001b[0m                                 Traceback (most recent call last)",
      "Cell \u001b[1;32mIn[122], line 1\u001b[0m\n\u001b[1;32m----> 1\u001b[0m \u001b[38;5;28mprint\u001b[39m(a[\u001b[38;5;241m1\u001b[39m])\n",
      "\u001b[1;31mTypeError\u001b[0m: 'set' object is not subscriptable"
     ]
    }
   ],
   "source": [
    "print(a[1])"
   ]
  },
  {
   "cell_type": "code",
   "execution_count": 123,
   "id": "8f81a898",
   "metadata": {},
   "outputs": [],
   "source": [
    "a={1,1,2,3,4,5,6,1,1,1,11,}"
   ]
  },
  {
   "cell_type": "code",
   "execution_count": 124,
   "id": "b468eef6",
   "metadata": {},
   "outputs": [
    {
     "data": {
      "text/plain": [
       "{1, 2, 3, 4, 5, 6, 11}"
      ]
     },
     "execution_count": 124,
     "metadata": {},
     "output_type": "execute_result"
    }
   ],
   "source": [
    "a"
   ]
  },
  {
   "cell_type": "code",
   "execution_count": 125,
   "id": "f4f8e89b",
   "metadata": {},
   "outputs": [
    {
     "data": {
      "text/plain": [
       "{1, 2, 3, 4, 5, 6, 11}"
      ]
     },
     "execution_count": 125,
     "metadata": {},
     "output_type": "execute_result"
    }
   ],
   "source": [
    "a"
   ]
  },
  {
   "cell_type": "code",
   "execution_count": 133,
   "id": "93cd4bc9",
   "metadata": {},
   "outputs": [
    {
     "ename": "TypeError",
     "evalue": "unhashable type: 'set'",
     "output_type": "error",
     "traceback": [
      "\u001b[1;31m---------------------------------------------------------------------------\u001b[0m",
      "\u001b[1;31mTypeError\u001b[0m                                 Traceback (most recent call last)",
      "Cell \u001b[1;32mIn[133], line 1\u001b[0m\n\u001b[1;32m----> 1\u001b[0m a\u001b[38;5;241m=\u001b[39m{\u001b[38;5;241m1\u001b[39m,\u001b[38;5;241m2\u001b[39m,\u001b[38;5;241m3\u001b[39m,(\u001b[38;5;124m'\u001b[39m\u001b[38;5;124mtouple\u001b[39m\u001b[38;5;124m'\u001b[39m,\u001b[38;5;124m'\u001b[39m\u001b[38;5;124msaqqu\u001b[39m\u001b[38;5;124m'\u001b[39m),\u001b[38;5;124m'\u001b[39m\u001b[38;5;124msaqqu\u001b[39m\u001b[38;5;124m'\u001b[39m,{\u001b[38;5;241m1\u001b[39m,\u001b[38;5;241m2\u001b[39m,\u001b[38;5;241m3\u001b[39m}}\n",
      "\u001b[1;31mTypeError\u001b[0m: unhashable type: 'set'"
     ]
    }
   ],
   "source": [
    "a={1,2,3,('touple','saqqu'),'saqqu',{1,2,3}}"
   ]
  },
  {
   "cell_type": "code",
   "execution_count": 129,
   "id": "0726ceaa",
   "metadata": {},
   "outputs": [
    {
     "data": {
      "text/plain": [
       "{('touple', 'saqqu'), 1, 2, 3, 'saqqu'}"
      ]
     },
     "execution_count": 129,
     "metadata": {},
     "output_type": "execute_result"
    }
   ],
   "source": [
    "a"
   ]
  },
  {
   "cell_type": "code",
   "execution_count": 131,
   "id": "e2c9bf4b",
   "metadata": {},
   "outputs": [
    {
     "data": {
      "text/plain": [
       "{('touple', 'saqqu'), 1, 2, 3, 'saqqu'}"
      ]
     },
     "execution_count": 131,
     "metadata": {},
     "output_type": "execute_result"
    }
   ],
   "source": [
    "a"
   ]
  },
  {
   "cell_type": "code",
   "execution_count": 134,
   "id": "cd76433d",
   "metadata": {},
   "outputs": [
    {
     "data": {
      "text/plain": [
       "{('touple', 'saqqu'), 1, 2, 3, 'saqqu'}"
      ]
     },
     "execution_count": 134,
     "metadata": {},
     "output_type": "execute_result"
    }
   ],
   "source": [
    "a"
   ]
  },
  {
   "cell_type": "code",
   "execution_count": 135,
   "id": "70e657de",
   "metadata": {},
   "outputs": [],
   "source": [
    "a.add('hyder')"
   ]
  },
  {
   "cell_type": "code",
   "execution_count": 136,
   "id": "eb6fdb2c",
   "metadata": {},
   "outputs": [
    {
     "data": {
      "text/plain": [
       "{('touple', 'saqqu'), 1, 2, 3, 'hyder', 'saqqu'}"
      ]
     },
     "execution_count": 136,
     "metadata": {},
     "output_type": "execute_result"
    }
   ],
   "source": [
    "a"
   ]
  },
  {
   "cell_type": "code",
   "execution_count": 137,
   "id": "08da38b6",
   "metadata": {},
   "outputs": [],
   "source": [
    "a.update(['saqib',10,90,100])"
   ]
  },
  {
   "cell_type": "code",
   "execution_count": 138,
   "id": "699fa090",
   "metadata": {},
   "outputs": [
    {
     "data": {
      "text/plain": [
       "{('touple', 'saqqu'), 1, 10, 100, 2, 3, 90, 'hyder', 'saqib', 'saqqu'}"
      ]
     },
     "execution_count": 138,
     "metadata": {},
     "output_type": "execute_result"
    }
   ],
   "source": [
    "a"
   ]
  },
  {
   "cell_type": "code",
   "execution_count": 139,
   "id": "a15c2432",
   "metadata": {},
   "outputs": [
    {
     "data": {
      "text/plain": [
       "1"
      ]
     },
     "execution_count": 139,
     "metadata": {},
     "output_type": "execute_result"
    }
   ],
   "source": [
    "a.pop()"
   ]
  },
  {
   "cell_type": "code",
   "execution_count": 140,
   "id": "86341d83",
   "metadata": {},
   "outputs": [
    {
     "data": {
      "text/plain": [
       "{('touple', 'saqqu'), 10, 100, 2, 3, 90, 'hyder', 'saqib', 'saqqu'}"
      ]
     },
     "execution_count": 140,
     "metadata": {},
     "output_type": "execute_result"
    }
   ],
   "source": [
    "a"
   ]
  },
  {
   "cell_type": "code",
   "execution_count": 141,
   "id": "e38e8453",
   "metadata": {},
   "outputs": [],
   "source": [
    "a.discard('ay')"
   ]
  },
  {
   "cell_type": "code",
   "execution_count": 142,
   "id": "eb7021d3",
   "metadata": {},
   "outputs": [
    {
     "data": {
      "text/plain": [
       "{('touple', 'saqqu'), 10, 100, 2, 3, 90, 'hyder', 'saqib', 'saqqu'}"
      ]
     },
     "execution_count": 142,
     "metadata": {},
     "output_type": "execute_result"
    }
   ],
   "source": [
    "a"
   ]
  },
  {
   "cell_type": "code",
   "execution_count": 143,
   "id": "8fe8aa41",
   "metadata": {},
   "outputs": [],
   "source": [
    "a.discard('hyder')"
   ]
  },
  {
   "cell_type": "code",
   "execution_count": 144,
   "id": "335ef8e7",
   "metadata": {},
   "outputs": [
    {
     "data": {
      "text/plain": [
       "{('touple', 'saqqu'), 10, 100, 2, 3, 90, 'saqib', 'saqqu'}"
      ]
     },
     "execution_count": 144,
     "metadata": {},
     "output_type": "execute_result"
    }
   ],
   "source": [
    "a"
   ]
  },
  {
   "cell_type": "code",
   "execution_count": 145,
   "id": "00ae97d2",
   "metadata": {},
   "outputs": [],
   "source": [
    "a.remove('saqqu')"
   ]
  },
  {
   "cell_type": "code",
   "execution_count": 146,
   "id": "6eb899fd",
   "metadata": {},
   "outputs": [
    {
     "data": {
      "text/plain": [
       "{('touple', 'saqqu'), 10, 100, 2, 3, 90, 'saqib'}"
      ]
     },
     "execution_count": 146,
     "metadata": {},
     "output_type": "execute_result"
    }
   ],
   "source": [
    "a"
   ]
  },
  {
   "cell_type": "code",
   "execution_count": 147,
   "id": "1842a5f2",
   "metadata": {},
   "outputs": [],
   "source": [
    "b={}"
   ]
  },
  {
   "cell_type": "code",
   "execution_count": 148,
   "id": "aafe87bd",
   "metadata": {},
   "outputs": [],
   "source": [
    "b=a.copy()"
   ]
  },
  {
   "cell_type": "code",
   "execution_count": 149,
   "id": "562f5ea9",
   "metadata": {},
   "outputs": [
    {
     "data": {
      "text/plain": [
       "{('touple', 'saqqu'), 10, 100, 2, 3, 90, 'saqib'}"
      ]
     },
     "execution_count": 149,
     "metadata": {},
     "output_type": "execute_result"
    }
   ],
   "source": [
    "b"
   ]
  },
  {
   "cell_type": "code",
   "execution_count": 151,
   "id": "03c8dc0d",
   "metadata": {},
   "outputs": [],
   "source": [
    "b.clear()"
   ]
  },
  {
   "cell_type": "code",
   "execution_count": 152,
   "id": "63a48f47",
   "metadata": {},
   "outputs": [
    {
     "data": {
      "text/plain": [
       "set()"
      ]
     },
     "execution_count": 152,
     "metadata": {},
     "output_type": "execute_result"
    }
   ],
   "source": [
    "b"
   ]
  },
  {
   "cell_type": "code",
   "execution_count": 153,
   "id": "679cfa40",
   "metadata": {},
   "outputs": [
    {
     "data": {
      "text/plain": [
       "{('touple', 'saqqu'), 10, 100, 2, 3, 90, 'saqib'}"
      ]
     },
     "execution_count": 153,
     "metadata": {},
     "output_type": "execute_result"
    }
   ],
   "source": [
    "a.union()"
   ]
  },
  {
   "cell_type": "code",
   "execution_count": 158,
   "id": "c204dc32",
   "metadata": {},
   "outputs": [
    {
     "data": {
      "text/plain": [
       "{1, 2, 3, 4, 5, 6}"
      ]
     },
     "execution_count": 158,
     "metadata": {},
     "output_type": "execute_result"
    }
   ],
   "source": [
    "c={1,2,3,3,3}\n",
    "d={3,4,5,6}\n",
    "c.union(d)"
   ]
  },
  {
   "cell_type": "code",
   "execution_count": 159,
   "id": "cc6aadd6",
   "metadata": {},
   "outputs": [
    {
     "data": {
      "text/plain": [
       "{3}"
      ]
     },
     "execution_count": 159,
     "metadata": {},
     "output_type": "execute_result"
    }
   ],
   "source": [
    "c.intersection(d)"
   ]
  },
  {
   "cell_type": "markdown",
   "id": "74b82eae",
   "metadata": {},
   "source": [
    "                               Dictionary"
   ]
  },
  {
   "cell_type": "raw",
   "id": "b4873318",
   "metadata": {},
   "source": [
    "- Dictionary is a mutable data type.\n",
    "- means we can add or delete the memory space.\n",
    "- dictionary is represented with {'key': ,'value':}.\n",
    "- dictionary will accepts any data type value.\n",
    "- dicitonary is like a excel data type(rows and coloumns).\n",
    "\n",
    "\n",
    "we can use any data type as a key.\n",
    "except mutable data types.\n",
    "\n",
    "Rules to remember in dictionary:\n",
    "    - dictionary key should be in int,string,float,touple vut not in list and sets\n",
    "    keys: column name in excel data type.\n",
    "    values: row name in a excel data type.\n",
    "  \n",
    "Built in Finctions:\n",
    "    1.get: it is used to call the value based on key.\n",
    "    2.update: it is used to add key and value to a dictionary\n",
    "    3.keys: it is used to print only keys.\n",
    "    4.values: it is used to print only values.\n",
    "    5.items: it is used to print keys and values it is same like a printing the variable\n",
    "    6.pop: it is used to remove specified key and value\n",
    "    7.popitem:it will removes the last key.\n",
    "    8.copy:it is used to copy from one variable to another variable\n",
    "    9.clear: it is used to clear all the data availble in the varaible but variable is alive."
   ]
  },
  {
   "cell_type": "code",
   "execution_count": 160,
   "id": "b32d40bf",
   "metadata": {},
   "outputs": [],
   "source": [
    "a={'name':'saqqu','age':21}"
   ]
  },
  {
   "cell_type": "code",
   "execution_count": 161,
   "id": "1ffc2964",
   "metadata": {},
   "outputs": [
    {
     "data": {
      "text/plain": [
       "{'name': 'saqqu', 'age': 21}"
      ]
     },
     "execution_count": 161,
     "metadata": {},
     "output_type": "execute_result"
    }
   ],
   "source": [
    "a"
   ]
  },
  {
   "cell_type": "code",
   "execution_count": 162,
   "id": "45558342",
   "metadata": {},
   "outputs": [
    {
     "data": {
      "text/plain": [
       "dict"
      ]
     },
     "execution_count": 162,
     "metadata": {},
     "output_type": "execute_result"
    }
   ],
   "source": [
    "type(a)"
   ]
  },
  {
   "cell_type": "code",
   "execution_count": 163,
   "id": "c27779c4",
   "metadata": {},
   "outputs": [
    {
     "data": {
      "text/plain": [
       "{'name': 'saqqu', 'age': 21}"
      ]
     },
     "execution_count": 163,
     "metadata": {},
     "output_type": "execute_result"
    }
   ],
   "source": [
    "a"
   ]
  },
  {
   "cell_type": "code",
   "execution_count": 166,
   "id": "9ce7d366",
   "metadata": {},
   "outputs": [
    {
     "data": {
      "text/plain": [
       "'saqqu'"
      ]
     },
     "execution_count": 166,
     "metadata": {},
     "output_type": "execute_result"
    }
   ],
   "source": [
    "a.get('name')"
   ]
  },
  {
   "cell_type": "code",
   "execution_count": 167,
   "id": "781a262f",
   "metadata": {},
   "outputs": [],
   "source": [
    "a.update({'location':'kosgi'})"
   ]
  },
  {
   "cell_type": "code",
   "execution_count": 168,
   "id": "90d8648b",
   "metadata": {},
   "outputs": [
    {
     "data": {
      "text/plain": [
       "{'name': 'saqqu', 'age': 21, 'location': 'kosgi'}"
      ]
     },
     "execution_count": 168,
     "metadata": {},
     "output_type": "execute_result"
    }
   ],
   "source": [
    "a"
   ]
  },
  {
   "cell_type": "code",
   "execution_count": 169,
   "id": "a116cb94",
   "metadata": {},
   "outputs": [
    {
     "data": {
      "text/plain": [
       "dict_keys(['name', 'age', 'location'])"
      ]
     },
     "execution_count": 169,
     "metadata": {},
     "output_type": "execute_result"
    }
   ],
   "source": [
    "a.keys()"
   ]
  },
  {
   "cell_type": "code",
   "execution_count": 172,
   "id": "8e890032",
   "metadata": {},
   "outputs": [
    {
     "data": {
      "text/plain": [
       "dict_values(['saqqu', 21, 'kosgi'])"
      ]
     },
     "execution_count": 172,
     "metadata": {},
     "output_type": "execute_result"
    }
   ],
   "source": [
    "a.values()"
   ]
  },
  {
   "cell_type": "code",
   "execution_count": 173,
   "id": "ee771199",
   "metadata": {},
   "outputs": [
    {
     "data": {
      "text/plain": [
       "dict_items([('name', 'saqqu'), ('age', 21), ('location', 'kosgi')])"
      ]
     },
     "execution_count": 173,
     "metadata": {},
     "output_type": "execute_result"
    }
   ],
   "source": [
    "a.items()"
   ]
  },
  {
   "cell_type": "code",
   "execution_count": 174,
   "id": "da64052e",
   "metadata": {},
   "outputs": [
    {
     "data": {
      "text/plain": [
       "{'name': 'saqqu', 'age': 21, 'location': 'kosgi'}"
      ]
     },
     "execution_count": 174,
     "metadata": {},
     "output_type": "execute_result"
    }
   ],
   "source": [
    "a"
   ]
  },
  {
   "cell_type": "code",
   "execution_count": 175,
   "id": "1195d4b3",
   "metadata": {},
   "outputs": [
    {
     "data": {
      "text/plain": [
       "'saqqu'"
      ]
     },
     "execution_count": 175,
     "metadata": {},
     "output_type": "execute_result"
    }
   ],
   "source": [
    "a.pop('name')"
   ]
  },
  {
   "cell_type": "code",
   "execution_count": 176,
   "id": "79603f21",
   "metadata": {},
   "outputs": [
    {
     "data": {
      "text/plain": [
       "{'age': 21, 'location': 'kosgi'}"
      ]
     },
     "execution_count": 176,
     "metadata": {},
     "output_type": "execute_result"
    }
   ],
   "source": [
    "a"
   ]
  },
  {
   "cell_type": "code",
   "execution_count": 177,
   "id": "40004a93",
   "metadata": {},
   "outputs": [
    {
     "data": {
      "text/plain": [
       "('location', 'kosgi')"
      ]
     },
     "execution_count": 177,
     "metadata": {},
     "output_type": "execute_result"
    }
   ],
   "source": [
    "a.popitem()"
   ]
  },
  {
   "cell_type": "code",
   "execution_count": 178,
   "id": "07dff35c",
   "metadata": {},
   "outputs": [
    {
     "data": {
      "text/plain": [
       "{'age': 21}"
      ]
     },
     "execution_count": 178,
     "metadata": {},
     "output_type": "execute_result"
    }
   ],
   "source": [
    "a"
   ]
  },
  {
   "cell_type": "code",
   "execution_count": 179,
   "id": "4d50722f",
   "metadata": {},
   "outputs": [],
   "source": [
    "b=a.copy()"
   ]
  },
  {
   "cell_type": "code",
   "execution_count": 180,
   "id": "801bd18f",
   "metadata": {},
   "outputs": [
    {
     "data": {
      "text/plain": [
       "{'age': 21}"
      ]
     },
     "execution_count": 180,
     "metadata": {},
     "output_type": "execute_result"
    }
   ],
   "source": [
    "b"
   ]
  },
  {
   "cell_type": "code",
   "execution_count": 181,
   "id": "4fb70e8f",
   "metadata": {},
   "outputs": [],
   "source": [
    "b.clear()"
   ]
  },
  {
   "cell_type": "code",
   "execution_count": 182,
   "id": "f7216e56",
   "metadata": {},
   "outputs": [
    {
     "data": {
      "text/plain": [
       "{}"
      ]
     },
     "execution_count": 182,
     "metadata": {},
     "output_type": "execute_result"
    }
   ],
   "source": [
    "b"
   ]
  },
  {
   "cell_type": "markdown",
   "id": "5de4b9db",
   "metadata": {},
   "source": [
    "                Conditional and Control statements"
   ]
  },
  {
   "cell_type": "raw",
   "id": "e1141004",
   "metadata": {},
   "source": [
    "Control Statments:\n",
    "    - For Loop\n",
    "    - While Loop\n",
    "  \n",
    "For Loop:\n",
    "    - For loop will having the starting point and ending point.\n",
    "    - Ending point will works with n-1 logic.\n",
    "    - in for loop we use itteration for some other purposes.\n",
    " \n",
    "While loop:\n",
    "    - in for loop we will having the starting and ending point and in range we having the fixed no of ityreartions.\n",
    "    - in while loop we dont have any starting and ending point.\n",
    "    - so while is a continues loops\n",
    "    - so we need to break the loop explicitly.\n",
    "    \n",
    "Conditional Statements:\n",
    "    - if\n",
    "    - else\n",
    "    - elif\n",
    "    - break\n",
    "If:\n",
    "    - it will check the condition,if the condition is satisfies then it will goes inside.or else it will remains silent.\n",
    "Else:\n",
    "    - it will check the condition,if the condition is satisfies then it will goes inside and if the condition is not satisfies then else statement block will executes.\n",
    "Elif:\n",
    "    - it is like a small brother.\n",
    "    - elif is used to write multiple if conditions.\n",
    "Break:\n",
    "    - it is used to stop at a certain point.\n",
    " \n",
    "and/or\n",
    "- in add both the condition should be true\n",
    "- in or only anyone condition should be true.\n"
   ]
  },
  {
   "cell_type": "code",
   "execution_count": 1,
   "id": "325f1aa4",
   "metadata": {},
   "outputs": [
    {
     "name": "stdout",
     "output_type": "stream",
     "text": [
      "1\n",
      "2\n",
      "3\n",
      "4\n",
      "5\n",
      "6\n",
      "7\n",
      "8\n",
      "9\n",
      "10\n"
     ]
    }
   ],
   "source": [
    "for i in range(1,11):\n",
    "    print(i)"
   ]
  },
  {
   "cell_type": "code",
   "execution_count": 2,
   "id": "e745d278",
   "metadata": {},
   "outputs": [
    {
     "name": "stdout",
     "output_type": "stream",
     "text": [
      "good morning\n",
      "good morning\n",
      "good morning\n",
      "good morning\n",
      "good morning\n",
      "good morning\n"
     ]
    }
   ],
   "source": [
    "for i in range(1,7):\n",
    "    print('good morning')"
   ]
  },
  {
   "cell_type": "code",
   "execution_count": 3,
   "id": "fde3f42f",
   "metadata": {},
   "outputs": [
    {
     "name": "stdout",
     "output_type": "stream",
     "text": [
      "i love python\n",
      "i love python\n",
      "i love python\n",
      "i love python\n",
      "i love python\n",
      "i love python\n",
      "i love python\n",
      "i love python\n",
      "i love python\n",
      "i love python\n"
     ]
    }
   ],
   "source": [
    "for i in range(1,11):\n",
    "    print('i love python')"
   ]
  },
  {
   "cell_type": "code",
   "execution_count": 4,
   "id": "f87b2376",
   "metadata": {},
   "outputs": [
    {
     "name": "stdout",
     "output_type": "stream",
     "text": [
      "i am saqqu\n",
      "i love python\n",
      "i love python\n",
      "i love python\n",
      "i love python\n",
      "i am from kosgi\n"
     ]
    }
   ],
   "source": [
    "print('i am saqqu')\n",
    "for i in range(1,5):\n",
    "    print('i love python')\n",
    "print('i am from kosgi')"
   ]
  },
  {
   "cell_type": "code",
   "execution_count": 7,
   "id": "4c83fc0d",
   "metadata": {},
   "outputs": [
    {
     "name": "stdout",
     "output_type": "stream",
     "text": [
      "python\n"
     ]
    }
   ],
   "source": [
    "a=10\n",
    "if a<20:\n",
    "    print('python')"
   ]
  },
  {
   "cell_type": "code",
   "execution_count": 6,
   "id": "bf7a2cee",
   "metadata": {},
   "outputs": [
    {
     "data": {
      "text/plain": [
       "10"
      ]
     },
     "execution_count": 6,
     "metadata": {},
     "output_type": "execute_result"
    }
   ],
   "source": [
    "a"
   ]
  },
  {
   "cell_type": "code",
   "execution_count": 8,
   "id": "b3df59e3",
   "metadata": {},
   "outputs": [
    {
     "name": "stdout",
     "output_type": "stream",
     "text": [
      "fail\n"
     ]
    }
   ],
   "source": [
    "a=10\n",
    "if a>20:\n",
    "    print('pass')\n",
    "else:\n",
    "    print('fail')"
   ]
  },
  {
   "cell_type": "code",
   "execution_count": 9,
   "id": "aeba1868",
   "metadata": {},
   "outputs": [],
   "source": [
    "a=10\n",
    "b=20\n",
    "c=30"
   ]
  },
  {
   "cell_type": "code",
   "execution_count": 23,
   "id": "1e5e3d18",
   "metadata": {},
   "outputs": [
    {
     "ename": "SyntaxError",
     "evalue": "expected ':' (831032470.py, line 5)",
     "output_type": "error",
     "traceback": [
      "\u001b[1;36m  Cell \u001b[1;32mIn[23], line 5\u001b[1;36m\u001b[0m\n\u001b[1;33m    else a<c:\u001b[0m\n\u001b[1;37m         ^\u001b[0m\n\u001b[1;31mSyntaxError\u001b[0m\u001b[1;31m:\u001b[0m expected ':'\n"
     ]
    }
   ],
   "source": [
    "if a>b:\n",
    "    print('grade a')\n",
    "elif a>c:\n",
    "    print('grade B')\n",
    "else a<c:\n",
    "    print('grade C')\n",
    "    "
   ]
  },
  {
   "cell_type": "code",
   "execution_count": 25,
   "id": "cd6d60ef",
   "metadata": {},
   "outputs": [
    {
     "name": "stdout",
     "output_type": "stream",
     "text": [
      "grade C\n"
     ]
    }
   ],
   "source": [
    "if a>b :\n",
    "    print('grade A')\n",
    "elif a>c :\n",
    "    print('grade B')\n",
    "else:\n",
    "    print('grade C')\n",
    "    "
   ]
  },
  {
   "cell_type": "code",
   "execution_count": 24,
   "id": "1bee9a84",
   "metadata": {},
   "outputs": [],
   "source": [
    "budget=80\n",
    "iphone=100\n",
    "samsung=40"
   ]
  },
  {
   "cell_type": "code",
   "execution_count": 26,
   "id": "94b82ea0",
   "metadata": {},
   "outputs": [
    {
     "name": "stdout",
     "output_type": "stream",
     "text": [
      "c\n"
     ]
    }
   ],
   "source": [
    "if budget>iphone:\n",
    "    print('pass')\n",
    "elif budget<samsung:\n",
    "    print('fail')\n",
    "else:\n",
    "    print('c')"
   ]
  },
  {
   "cell_type": "code",
   "execution_count": 32,
   "id": "b1f3d773",
   "metadata": {},
   "outputs": [
    {
     "name": "stdout",
     "output_type": "stream",
     "text": [
      "12, even number\n",
      "14, even number\n",
      "16, even number\n",
      "18, even number\n",
      "20, even number\n"
     ]
    }
   ],
   "source": [
    "#from the values 11 to 21 print even numbers\n",
    "for i in range(11,22):\n",
    "    if i % 2==0:\n",
    "        print(f'{i}, even number')\n",
    "    "
   ]
  },
  {
   "cell_type": "code",
   "execution_count": 36,
   "id": "9f09f87b",
   "metadata": {},
   "outputs": [
    {
     "name": "stdout",
     "output_type": "stream",
     "text": [
      "11,odd numbers\n",
      "13,odd numbers\n",
      "15,odd numbers\n",
      "17,odd numbers\n",
      "19,odd numbers\n",
      "21,odd numbers\n"
     ]
    }
   ],
   "source": [
    "#for odd\n",
    "for i in range(11,22):\n",
    "    if i%2!=0:\n",
    "        print(f'{i},odd numbers')"
   ]
  },
  {
   "cell_type": "code",
   "execution_count": 39,
   "id": "e06233ef",
   "metadata": {},
   "outputs": [
    {
     "name": "stdout",
     "output_type": "stream",
     "text": [
      "1\n",
      "2\n",
      "3\n",
      "4\n",
      "5\n",
      "6\n",
      "7\n",
      "8\n",
      "9\n",
      "10\n",
      "11\n",
      "12\n",
      "13\n",
      "14\n",
      "15\n",
      "16\n",
      "17\n"
     ]
    }
   ],
   "source": [
    "for i in range(1,19):\n",
    "    print(i)\n",
    "    if i==17:\n",
    "        break"
   ]
  },
  {
   "cell_type": "code",
   "execution_count": 41,
   "id": "20ab770d",
   "metadata": {},
   "outputs": [
    {
     "name": "stdout",
     "output_type": "stream",
     "text": [
      "1\n",
      "2\n",
      "3\n",
      "4\n",
      "5\n",
      "6\n",
      "7\n",
      "8\n",
      "9\n",
      "10\n",
      "11\n",
      "12\n",
      "13\n",
      "14\n"
     ]
    }
   ],
   "source": [
    "for i in range(1,20):\n",
    "    print(i)\n",
    "    if i==14:\n",
    "        break\n"
   ]
  },
  {
   "cell_type": "code",
   "execution_count": 43,
   "id": "b147889b",
   "metadata": {},
   "outputs": [
    {
     "name": "stdout",
     "output_type": "stream",
     "text": [
      "i love\n"
     ]
    }
   ],
   "source": [
    "#and\n",
    "if 18%2==0 and 12%2==0:\n",
    "    print('i love')"
   ]
  },
  {
   "cell_type": "code",
   "execution_count": 44,
   "id": "0c44ee0e",
   "metadata": {},
   "outputs": [
    {
     "name": "stdout",
     "output_type": "stream",
     "text": [
      "i love\n"
     ]
    }
   ],
   "source": [
    "#or\n",
    "if 18%2==0 or 19%2==0:\n",
    "    print('i love')"
   ]
  },
  {
   "cell_type": "code",
   "execution_count": 45,
   "id": "25e8630f",
   "metadata": {},
   "outputs": [
    {
     "name": "stdout",
     "output_type": "stream",
     "text": [
      "15\n",
      "30\n",
      "45\n"
     ]
    }
   ],
   "source": [
    "#from the values 12 to 50 print the values\n",
    "#which are satisfying with both 3 and 5\n",
    "for i in range(12,51):\n",
    "    if i%3==0 and i%5==0:\n",
    "        print(i)"
   ]
  },
  {
   "cell_type": "code",
   "execution_count": 48,
   "id": "205132b4",
   "metadata": {},
   "outputs": [
    {
     "name": "stdout",
     "output_type": "stream",
     "text": [
      "0\n",
      "2\n",
      "4\n",
      "6\n",
      "8\n"
     ]
    }
   ],
   "source": [
    "#total values needed 5 outcomes.\n",
    "#starting from 0 and gap should be 2 for each number.\n",
    "for i in range(0,5):\n",
    "    print(i*2)"
   ]
  },
  {
   "cell_type": "code",
   "execution_count": 57,
   "id": "0ead85d6",
   "metadata": {},
   "outputs": [
    {
     "name": "stdout",
     "output_type": "stream",
     "text": [
      "12\n",
      "14\n",
      "16\n",
      "18\n",
      "20\n",
      "[20, 18, 16, 14, 12]\n"
     ]
    }
   ],
   "source": [
    "#from the values 11 to 20.\n",
    "#find the even numbers and print the even number in decending order\n",
    "c=[]\n",
    "for i in range(11,21):\n",
    "    if i%2==0:\n",
    "        print(f'{i}')\n",
    "        c.append(i)\n",
    "        c.sort(reverse=True)\n",
    "print(c)\n",
    "        \n",
    "\n"
   ]
  },
  {
   "cell_type": "code",
   "execution_count": 59,
   "id": "4d361dfa",
   "metadata": {},
   "outputs": [
    {
     "name": "stdout",
     "output_type": "stream",
     "text": [
      "21 odd\n",
      "22 even\n",
      "23 odd\n",
      "24 even\n",
      "25 odd\n",
      "26 even\n",
      "27 odd\n",
      "28 even\n",
      "29 odd\n",
      "30 even\n",
      "31 odd\n"
     ]
    }
   ],
   "source": [
    "#find the even and odd numbers in the given range 21 to 31\n",
    "for i in range(21,32):\n",
    "    if i%2==0:\n",
    "        print(f'{i} even')\n",
    "    else:\n",
    "        print(f'{i} odd')"
   ]
  },
  {
   "cell_type": "code",
   "execution_count": 95,
   "id": "9ffd7385",
   "metadata": {},
   "outputs": [
    {
     "name": "stdout",
     "output_type": "stream",
     "text": [
      "11 is a perfect number\n"
     ]
    }
   ],
   "source": [
    "#find the whether the given number is a perfect number or not.\n",
    "# the sum of divisible of a number should be equal to a given number\n",
    "n=1\n",
    "count=0\n",
    "for i in range(1,12):\n",
    "    if n%i==0:\n",
    "        count=count+i\n",
    "if count==n:\n",
    "        print(f'{i} is a perfect number')\n",
    "else:\n",
    "        print('invalid')\n",
    "    "
   ]
  },
  {
   "cell_type": "code",
   "execution_count": 80,
   "id": "c45d739c",
   "metadata": {},
   "outputs": [
    {
     "name": "stdout",
     "output_type": "stream",
     "text": [
      "7 is a prime number\n"
     ]
    }
   ],
   "source": [
    "#find the given number is prime number or not\n",
    "#the number which is divisible by the value 1 and number iteself.\n",
    "n=7\n",
    "count=0\n",
    "for i in range(1,12):\n",
    "    if n%i==0:\n",
    "        count=count+i\n",
    "if count==8:\n",
    "    print(f'{i} is a prime number')\n",
    "else:\n",
    "    print(f'{i} is not a prime number')"
   ]
  },
  {
   "cell_type": "code",
   "execution_count": 87,
   "id": "16bd41c8",
   "metadata": {},
   "outputs": [
    {
     "name": "stdout",
     "output_type": "stream",
     "text": [
      "5040\n"
     ]
    }
   ],
   "source": [
    "#find the factiorial of a given number:\n",
    "f=1\n",
    "n=7\n",
    "for i in range(1,n+1):\n",
    "    f=f*i\n",
    "\n",
    "print(f)"
   ]
  },
  {
   "cell_type": "code",
   "execution_count": 96,
   "id": "a078123d",
   "metadata": {},
   "outputs": [
    {
     "name": "stdout",
     "output_type": "stream",
     "text": [
      "s\n",
      "a\n",
      "q\n",
      "q\n",
      "u\n"
     ]
    }
   ],
   "source": [
    "#string\n",
    "a='saqqu'\n",
    "for i in a:\n",
    "    print(i)"
   ]
  },
  {
   "cell_type": "code",
   "execution_count": 98,
   "id": "a43f16cf",
   "metadata": {},
   "outputs": [
    {
     "name": "stdout",
     "output_type": "stream",
     "text": [
      "10\n",
      "20\n",
      "30\n"
     ]
    }
   ],
   "source": [
    "#list\n",
    "a=[10,20,30]\n",
    "for i in a:\n",
    "    print(i)"
   ]
  },
  {
   "cell_type": "code",
   "execution_count": 99,
   "id": "9fd13632",
   "metadata": {},
   "outputs": [
    {
     "name": "stdout",
     "output_type": "stream",
     "text": [
      "10\n",
      "20\n",
      "saqqu\n"
     ]
    }
   ],
   "source": [
    "#touple:\n",
    "a=(10,20,'saqqu')\n",
    "for i in a:\n",
    "    print(i)"
   ]
  },
  {
   "cell_type": "code",
   "execution_count": 100,
   "id": "84f4a93a",
   "metadata": {},
   "outputs": [
    {
     "name": "stdout",
     "output_type": "stream",
     "text": [
      "1\n",
      "2\n",
      "3\n",
      "4\n"
     ]
    }
   ],
   "source": [
    "#set\n",
    "a={1,2,3,4}\n",
    "for i in a:\n",
    "    print(i)"
   ]
  },
  {
   "cell_type": "code",
   "execution_count": 102,
   "id": "51d44a66",
   "metadata": {},
   "outputs": [
    {
     "name": "stdout",
     "output_type": "stream",
     "text": [
      "key\n"
     ]
    }
   ],
   "source": [
    "#dict\n",
    "a={'key':'value'}\n",
    "for i in a:\n",
    "    print(i)"
   ]
  },
  {
   "cell_type": "code",
   "execution_count": 107,
   "id": "f98eb43b",
   "metadata": {},
   "outputs": [
    {
     "name": "stdout",
     "output_type": "stream",
     "text": [
      "10\n",
      "20\n",
      "30\n",
      "40\n",
      "25.0\n"
     ]
    }
   ],
   "source": [
    "a=[10,20,30,40]\n",
    "count=0\n",
    "for i in a:\n",
    "    count=count+i\n",
    "    print(i)\n",
    "print(count/len(a))"
   ]
  },
  {
   "cell_type": "code",
   "execution_count": 109,
   "id": "23202d48",
   "metadata": {},
   "outputs": [
    {
     "name": "stdout",
     "output_type": "stream",
     "text": [
      "25.0\n"
     ]
    }
   ],
   "source": [
    "a=[10,20,30,40]\n",
    "count=0\n",
    "for i in a:\n",
    "    count=count+i\n",
    "print(count/len(a))"
   ]
  },
  {
   "cell_type": "code",
   "execution_count": 116,
   "id": "ceace5db",
   "metadata": {},
   "outputs": [
    {
     "ename": "TypeError",
     "evalue": "'int' object is not iterable",
     "output_type": "error",
     "traceback": [
      "\u001b[1;31m---------------------------------------------------------------------------\u001b[0m",
      "\u001b[1;31mTypeError\u001b[0m                                 Traceback (most recent call last)",
      "Cell \u001b[1;32mIn[116], line 10\u001b[0m\n\u001b[0;32m      8\u001b[0m           c\u001b[38;5;241m.\u001b[39mappend(i)\n\u001b[0;32m      9\u001b[0m s\u001b[38;5;241m=\u001b[39m\u001b[38;5;241m0\u001b[39m\n\u001b[1;32m---> 10\u001b[0m \u001b[38;5;28;01mfor\u001b[39;00m j \u001b[38;5;129;01min\u001b[39;00m c[\u001b[38;5;241m0\u001b[39m]:\n\u001b[0;32m     11\u001b[0m     s\u001b[38;5;241m=\u001b[39ms\u001b[38;5;241m+\u001b[39mj\n\u001b[0;32m     12\u001b[0m \u001b[38;5;28mprint\u001b[39m(count\u001b[38;5;241m+\u001b[39ms)\n",
      "\u001b[1;31mTypeError\u001b[0m: 'int' object is not iterable"
     ]
    }
   ],
   "source": [
    "a=[1,5,9,11,[10,20]]\n",
    "count=0\n",
    "c=[]\n",
    "for i in a:\n",
    "    if type(a)==int:\n",
    "        count=count+i\n",
    "    elif type(a)==list:\n",
    "          c.append(i)\n",
    "print(count)"
   ]
  },
  {
   "cell_type": "code",
   "execution_count": 22,
   "id": "932765be",
   "metadata": {},
   "outputs": [
    {
     "name": "stdout",
     "output_type": "stream",
     "text": [
      "enter any number:5\n",
      "5 is a perfect number\n"
     ]
    }
   ],
   "source": [
    "#find the perfect number:\n",
    "n=int(input('enter any number:'))\n",
    "count=0\n",
    "for i in range(1,n+1):\n",
    "    if i%n==0:\n",
    "        count=count+i\n",
    "if count==n:\n",
    "    print(f'{n} is a perfect number')\n",
    "else:\n",
    "    print(f'{n} is not a perfect number')"
   ]
  },
  {
   "cell_type": "code",
   "execution_count": 21,
   "id": "f411f355",
   "metadata": {},
   "outputs": [
    {
     "name": "stdout",
     "output_type": "stream",
     "text": [
      "enter any number:7\n",
      "7 is a prime number\n"
     ]
    }
   ],
   "source": [
    "#find the given number is a prime number or not\n",
    "n=int(input('enter any number:'))\n",
    "count=0\n",
    "for i in range(1,n+1):\n",
    "    if n%i==0:\n",
    "        count=count+1\n",
    "if count==2:\n",
    "    print(f'{n} is a prime number')\n",
    "else:\n",
    "    print(f'{n} is not a prime number')"
   ]
  },
  {
   "cell_type": "code",
   "execution_count": 18,
   "id": "c97202e0",
   "metadata": {},
   "outputs": [
    {
     "name": "stdout",
     "output_type": "stream",
     "text": [
      "enter any number6\n",
      "6 is a perfect number\n"
     ]
    }
   ],
   "source": [
    "n=int(input('enter any number'))\n",
    "sum=0\n",
    "for i in range(1,n):\n",
    "    if n%i==0:\n",
    "        sum=sum+i\n",
    "if sum==n:\n",
    "    print(f'{n} is a perfect number')\n",
    "else:\n",
    "    print(f'{n} is not a perfect number')\n",
    "    "
   ]
  },
  {
   "cell_type": "code",
   "execution_count": 23,
   "id": "a8abbcd2",
   "metadata": {},
   "outputs": [
    {
     "name": "stdout",
     "output_type": "stream",
     "text": [
      "25.0\n"
     ]
    }
   ],
   "source": [
    "#find the avarage of \n",
    "a=[10,20,30,40]\n",
    "count=0\n",
    "for i in a:\n",
    "    count=count+i\n",
    "print(count/len(a))\n",
    "    "
   ]
  },
  {
   "cell_type": "code",
   "execution_count": 28,
   "id": "506cc83f",
   "metadata": {},
   "outputs": [
    {
     "name": "stdout",
     "output_type": "stream",
     "text": [
      "[[10, 20]]\n",
      "26\n",
      "30\n",
      "56\n"
     ]
    }
   ],
   "source": [
    "a=[1,5,9,11,[10,20]]\n",
    "count=0\n",
    "c=[]\n",
    "for i in a:\n",
    "    if type(i)==int:\n",
    "        count=count+i\n",
    "    elif type(i)==list:\n",
    "        c.append(i)\n",
    "print(c)\n",
    "print(count)\n",
    "s=0\n",
    "for j in c[0]:\n",
    "        s=s+j\n",
    "print(s)\n",
    "print(s+count)"
   ]
  },
  {
   "cell_type": "code",
   "execution_count": 30,
   "id": "115d3941",
   "metadata": {},
   "outputs": [],
   "source": [
    "def fun(a,b):\n",
    "    print(a+b)\n",
    "a=10\n",
    "b=20"
   ]
  },
  {
   "cell_type": "code",
   "execution_count": 33,
   "id": "70e1fdc5",
   "metadata": {},
   "outputs": [
    {
     "name": "stdout",
     "output_type": "stream",
     "text": [
      "30\n"
     ]
    }
   ],
   "source": [
    "fun(a,b)"
   ]
  },
  {
   "cell_type": "code",
   "execution_count": 34,
   "id": "2fd29442",
   "metadata": {},
   "outputs": [],
   "source": [
    "def fun(x,y):\n",
    "    print(x+y)\n",
    "    "
   ]
  },
  {
   "cell_type": "code",
   "execution_count": 35,
   "id": "c16ef560",
   "metadata": {},
   "outputs": [
    {
     "name": "stdout",
     "output_type": "stream",
     "text": [
      "30\n"
     ]
    }
   ],
   "source": [
    "fun(10,20)"
   ]
  },
  {
   "cell_type": "code",
   "execution_count": 36,
   "id": "1bb3e637",
   "metadata": {},
   "outputs": [],
   "source": [
    "def fun(a,b):\n",
    "    for i in range(a,b):\n",
    "        if i%2==0:\n",
    "            print(i,'even')\n",
    "        else:\n",
    "            print(i,'odd')"
   ]
  },
  {
   "cell_type": "code",
   "execution_count": 37,
   "id": "a7bdebd6",
   "metadata": {},
   "outputs": [
    {
     "name": "stdout",
     "output_type": "stream",
     "text": [
      "1 odd\n",
      "2 even\n",
      "3 odd\n",
      "4 even\n",
      "5 odd\n",
      "6 even\n",
      "7 odd\n",
      "8 even\n",
      "9 odd\n",
      "10 even\n"
     ]
    }
   ],
   "source": [
    "fun(1,11)"
   ]
  },
  {
   "cell_type": "code",
   "execution_count": 38,
   "id": "c1eeea94",
   "metadata": {},
   "outputs": [],
   "source": [
    "def prime(n):\n",
    "    count=0\n",
    "    for i in range(1,n+1):\n",
    "        if n%i==0:\n",
    "            count=count+1\n",
    "    if count==2:\n",
    "        print(f'{n} is a prime number')\n",
    "    else:\n",
    "        print(f'{n} is not a prime number')"
   ]
  },
  {
   "cell_type": "code",
   "execution_count": 40,
   "id": "1762ddc4",
   "metadata": {},
   "outputs": [
    {
     "name": "stdout",
     "output_type": "stream",
     "text": [
      "1 is not a prime number\n"
     ]
    }
   ],
   "source": [
    "prime(1)"
   ]
  },
  {
   "cell_type": "code",
   "execution_count": 41,
   "id": "f1efb092",
   "metadata": {},
   "outputs": [
    {
     "name": "stdout",
     "output_type": "stream",
     "text": [
      "2 is a prime number\n"
     ]
    }
   ],
   "source": [
    "prime(2)"
   ]
  },
  {
   "cell_type": "code",
   "execution_count": 42,
   "id": "3d8c27ad",
   "metadata": {},
   "outputs": [
    {
     "name": "stdout",
     "output_type": "stream",
     "text": [
      "7 is a prime number\n"
     ]
    }
   ],
   "source": [
    "prime(7)"
   ]
  },
  {
   "cell_type": "code",
   "execution_count": 46,
   "id": "99f5135c",
   "metadata": {},
   "outputs": [],
   "source": [
    "def fun(x,y):\n",
    "    print(x+y)\n",
    "a=10\n",
    "b=10"
   ]
  },
  {
   "cell_type": "code",
   "execution_count": 47,
   "id": "9c132b29",
   "metadata": {},
   "outputs": [
    {
     "name": "stdout",
     "output_type": "stream",
     "text": [
      "20\n"
     ]
    }
   ],
   "source": [
    "fun(a,b)"
   ]
  },
  {
   "cell_type": "code",
   "execution_count": 48,
   "id": "4f509be3",
   "metadata": {},
   "outputs": [],
   "source": [
    "def fun(x=100,y=200):\n",
    "    print(x+y)\n",
    "a=10\n",
    "b=90\n"
   ]
  },
  {
   "cell_type": "code",
   "execution_count": 49,
   "id": "f9ffd31a",
   "metadata": {},
   "outputs": [
    {
     "name": "stdout",
     "output_type": "stream",
     "text": [
      "100\n"
     ]
    }
   ],
   "source": [
    "fun(a,b)"
   ]
  },
  {
   "cell_type": "code",
   "execution_count": 50,
   "id": "23f3e1c2",
   "metadata": {},
   "outputs": [],
   "source": [
    "def fun(a,b):\n",
    "    print(a+b)\n"
   ]
  },
  {
   "cell_type": "code",
   "execution_count": 51,
   "id": "3a0d114e",
   "metadata": {},
   "outputs": [
    {
     "name": "stdout",
     "output_type": "stream",
     "text": [
      "5\n"
     ]
    }
   ],
   "source": [
    "fun(a=10,b=-5)"
   ]
  },
  {
   "cell_type": "code",
   "execution_count": 56,
   "id": "3cca18d6",
   "metadata": {},
   "outputs": [],
   "source": [
    "def fun():\n",
    "        print('good morning')   #this is non parameter function"
   ]
  },
  {
   "cell_type": "code",
   "execution_count": 57,
   "id": "80ec958f",
   "metadata": {},
   "outputs": [
    {
     "name": "stdout",
     "output_type": "stream",
     "text": [
      "good morning\n"
     ]
    }
   ],
   "source": [
    "fun()"
   ]
  },
  {
   "cell_type": "code",
   "execution_count": 58,
   "id": "0f61f628",
   "metadata": {},
   "outputs": [],
   "source": [
    "def fun(a,b):\n",
    "    print(a+b)"
   ]
  },
  {
   "cell_type": "code",
   "execution_count": 59,
   "id": "84963a9a",
   "metadata": {},
   "outputs": [
    {
     "name": "stdout",
     "output_type": "stream",
     "text": [
      "30\n"
     ]
    }
   ],
   "source": [
    "fun(10,20) #parameter function"
   ]
  },
  {
   "cell_type": "code",
   "execution_count": 75,
   "id": "f1b4e68a",
   "metadata": {},
   "outputs": [],
   "source": [
    "def table(n):\n",
    "  \n",
    "    for i in range(1,11):\n",
    "        print(n,'*',i,'=',n*i)"
   ]
  },
  {
   "cell_type": "code",
   "execution_count": 78,
   "id": "24ef4276",
   "metadata": {},
   "outputs": [
    {
     "name": "stdout",
     "output_type": "stream",
     "text": [
      "enter any number:5100\n",
      "5100 * 1 = 5100\n",
      "5100 * 2 = 10200\n",
      "5100 * 3 = 15300\n",
      "5100 * 4 = 20400\n",
      "5100 * 5 = 25500\n",
      "5100 * 6 = 30600\n",
      "5100 * 7 = 35700\n",
      "5100 * 8 = 40800\n",
      "5100 * 9 = 45900\n",
      "5100 * 10 = 51000\n"
     ]
    }
   ],
   "source": [
    "n=int(input('enter any number:'))\n",
    "for i in range(1,11):\n",
    "    print(n,'*',i,'=',n*i)"
   ]
  },
  {
   "cell_type": "code",
   "execution_count": 74,
   "id": "31e7f482",
   "metadata": {},
   "outputs": [
    {
     "name": "stdout",
     "output_type": "stream",
     "text": [
      "enter any number:10\n",
      "10 * 1 = 10\n",
      "10 * 2 = 20\n",
      "10 * 3 = 30\n",
      "10 * 4 = 40\n",
      "10 * 5 = 50\n",
      "10 * 6 = 60\n",
      "10 * 7 = 70\n",
      "10 * 8 = 80\n",
      "10 * 9 = 90\n",
      "10 * 10 = 100\n"
     ]
    }
   ],
   "source": [
    "table(10)"
   ]
  },
  {
   "cell_type": "code",
   "execution_count": 76,
   "id": "7a705017",
   "metadata": {},
   "outputs": [
    {
     "name": "stdout",
     "output_type": "stream",
     "text": [
      "20 * 1 = 20\n",
      "20 * 2 = 40\n",
      "20 * 3 = 60\n",
      "20 * 4 = 80\n",
      "20 * 5 = 100\n",
      "20 * 6 = 120\n",
      "20 * 7 = 140\n",
      "20 * 8 = 160\n",
      "20 * 9 = 180\n",
      "20 * 10 = 200\n"
     ]
    }
   ],
   "source": [
    "table(20)"
   ]
  },
  {
   "cell_type": "code",
   "execution_count": 77,
   "id": "ce34df6d",
   "metadata": {},
   "outputs": [
    {
     "name": "stdout",
     "output_type": "stream",
     "text": [
      "2000 * 1 = 2000\n",
      "2000 * 2 = 4000\n",
      "2000 * 3 = 6000\n",
      "2000 * 4 = 8000\n",
      "2000 * 5 = 10000\n",
      "2000 * 6 = 12000\n",
      "2000 * 7 = 14000\n",
      "2000 * 8 = 16000\n",
      "2000 * 9 = 18000\n",
      "2000 * 10 = 20000\n"
     ]
    }
   ],
   "source": [
    "table(2000)"
   ]
  },
  {
   "cell_type": "code",
   "execution_count": null,
   "id": "4ab8d051",
   "metadata": {},
   "outputs": [],
   "source": []
  }
 ],
 "metadata": {
  "kernelspec": {
   "display_name": "Python 3 (ipykernel)",
   "language": "python",
   "name": "python3"
  },
  "language_info": {
   "codemirror_mode": {
    "name": "ipython",
    "version": 3
   },
   "file_extension": ".py",
   "mimetype": "text/x-python",
   "name": "python",
   "nbconvert_exporter": "python",
   "pygments_lexer": "ipython3",
   "version": "3.11.5"
  }
 },
 "nbformat": 4,
 "nbformat_minor": 5
}
