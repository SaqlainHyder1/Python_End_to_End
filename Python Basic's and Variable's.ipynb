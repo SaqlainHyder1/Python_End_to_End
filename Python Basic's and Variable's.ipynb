{
 "cells": [
  {
   "cell_type": "markdown",
   "id": "52e0e2ab",
   "metadata": {},
   "source": [
    "                          Python Basis's"
   ]
  },
  {
   "cell_type": "raw",
   "id": "dfb9cc7e",
   "metadata": {},
   "source": [
    "To Execute the cell here we have 4 types of cells:\n",
    "1.code\n",
    "2.markdown\n",
    "3.RawNBConvert\n",
    "4.Heading\n",
    "\n",
    "Code:\n",
    "    - if we need to write any code we can use code cell.\n",
    "Markdown:\n",
    "    - anytext we need to make as a heading or subtext,so we use markdown.\n",
    "RawNBCovert:\n",
    "    - it is like a cell,which takes text only and but not executes.\n",
    "Heading:\n",
    "    - anytext if we need to make as a main heading we use heading cell\n",
    "    - here heading is represented with '#'.\n",
    "    - total we have 6 level's of heading.\n",
    "    - here level means that we can increse the heading size.\n",
    "    - for big heading we use only single '#'.\n",
    "    - if we need fully small heading we use '######'."
   ]
  },
  {
   "cell_type": "markdown",
   "id": "d1e18dca",
   "metadata": {},
   "source": [
    "                              Data Type's"
   ]
  },
  {
   "cell_type": "raw",
   "id": "d47c8d6b",
   "metadata": {},
   "source": [
    "In Python we have two types of Data types:\n",
    "they are:\n",
    "    1.primitive Data type.\n",
    "    2.Non Primitive data type.\n",
    "\n",
    "primitive data type:\n",
    "    -it is the combination of numericals and alphabetics.\n",
    "    Numercials:\n",
    "        - int----> 1\n",
    "        - float---> 1.2\n",
    "        - complex--> 1+2j\n",
    "    Alphabtics:\n",
    "        - it is the combination of charachters\n",
    "        - String-->a,b,c,d,e,f,g,h,...\n",
    "Non Primtive data type:\n",
    "    - boolean data type\n",
    "    - true/false\n",
    " \n",
    "- python is a line by line execution\n",
    "- if a=10 here a will save in ram temporialy.\n",
    "- if anything is saved in the memory the use print function to call and print infornt of you\n",
    "- if anything is saved in the memory if we pass same values to a variable again and again then it will going to override."
   ]
  },
  {
   "cell_type": "markdown",
   "id": "f59bd441",
   "metadata": {},
   "source": [
    "                              Variable's"
   ]
  },
  {
   "cell_type": "raw",
   "id": "41366579",
   "metadata": {},
   "source": [
    "- Variable is nothing but to store some information.\n",
    "- to define a variable we need to give a variable name:\n",
    "- if a=10 #here assining 10 to a.\n",
    "\n",
    "Rules to Create a Variable:\n",
    "    - Variable name does not starts with any numeric number.\n",
    "    - if you need to start with any numeric number the use _(underscore) befor a number.\n",
    "    - no white space nd blank space is allowed.\n",
    "    - no any special charachter are allowed.\n",
    "       !@#$%^&*()+:\"<>?][{}\\|-\n",
    "    - python is a case sensetive. "
   ]
  },
  {
   "cell_type": "code",
   "execution_count": 1,
   "id": "38a2a601",
   "metadata": {},
   "outputs": [
    {
     "name": "stdout",
     "output_type": "stream",
     "text": [
      "python\n"
     ]
    }
   ],
   "source": [
    "print('python')"
   ]
  },
  {
   "cell_type": "code",
   "execution_count": 2,
   "id": "8beff518",
   "metadata": {},
   "outputs": [
    {
     "name": "stdout",
     "output_type": "stream",
     "text": [
      "hey\n"
     ]
    }
   ],
   "source": [
    "print('hey')"
   ]
  },
  {
   "cell_type": "code",
   "execution_count": 3,
   "id": "1e4e555e",
   "metadata": {},
   "outputs": [
    {
     "name": "stdout",
     "output_type": "stream",
     "text": [
      " Hey my name is Saqqu\n",
      "and i love python\n"
     ]
    }
   ],
   "source": [
    "print(\"\"\" Hey my name is Saqqu\n",
    "and i love python\"\"\")"
   ]
  },
  {
   "cell_type": "code",
   "execution_count": 8,
   "id": "0e97fcde",
   "metadata": {},
   "outputs": [
    {
     "name": "stdout",
     "output_type": "stream",
     "text": [
      "the value of a: 1\n"
     ]
    }
   ],
   "source": [
    "a=1\n",
    "print('the value of a:',a)"
   ]
  },
  {
   "cell_type": "code",
   "execution_count": 9,
   "id": "65f0139f",
   "metadata": {},
   "outputs": [
    {
     "name": "stdout",
     "output_type": "stream",
     "text": [
      "my name is: kamal\n"
     ]
    }
   ],
   "source": [
    "name='kamal'\n",
    "print('my name is:',name)"
   ]
  },
  {
   "cell_type": "code",
   "execution_count": 11,
   "id": "ece22519",
   "metadata": {},
   "outputs": [],
   "source": [
    "_2=1"
   ]
  },
  {
   "cell_type": "code",
   "execution_count": 12,
   "id": "1fb53a78",
   "metadata": {},
   "outputs": [
    {
     "name": "stdout",
     "output_type": "stream",
     "text": [
      "1\n"
     ]
    }
   ],
   "source": [
    "print(_2)"
   ]
  },
  {
   "cell_type": "code",
   "execution_count": 15,
   "id": "80d8dc51",
   "metadata": {},
   "outputs": [],
   "source": [
    "_9lives='pythin'"
   ]
  },
  {
   "cell_type": "code",
   "execution_count": 17,
   "id": "69118bc1",
   "metadata": {},
   "outputs": [
    {
     "data": {
      "text/plain": [
       "'python'"
      ]
     },
     "execution_count": 17,
     "metadata": {},
     "output_type": "execute_result"
    }
   ],
   "source": [
    "_9lives.replace('i','o')"
   ]
  },
  {
   "cell_type": "code",
   "execution_count": 18,
   "id": "a7c5e88c",
   "metadata": {},
   "outputs": [],
   "source": [
    "a=32.2"
   ]
  },
  {
   "cell_type": "code",
   "execution_count": 19,
   "id": "c490bb4e",
   "metadata": {},
   "outputs": [
    {
     "data": {
      "text/plain": [
       "32.2"
      ]
     },
     "execution_count": 19,
     "metadata": {},
     "output_type": "execute_result"
    }
   ],
   "source": [
    "a"
   ]
  },
  {
   "cell_type": "code",
   "execution_count": 20,
   "id": "d156ecf7",
   "metadata": {},
   "outputs": [],
   "source": [
    "a='saqqu'"
   ]
  },
  {
   "cell_type": "code",
   "execution_count": 21,
   "id": "38314599",
   "metadata": {},
   "outputs": [
    {
     "data": {
      "text/plain": [
       "'saqqu'"
      ]
     },
     "execution_count": 21,
     "metadata": {},
     "output_type": "execute_result"
    }
   ],
   "source": [
    "a"
   ]
  },
  {
   "cell_type": "code",
   "execution_count": 22,
   "id": "04543197",
   "metadata": {},
   "outputs": [],
   "source": [
    "_123='python'"
   ]
  },
  {
   "cell_type": "code",
   "execution_count": 23,
   "id": "13f42830",
   "metadata": {},
   "outputs": [
    {
     "name": "stdout",
     "output_type": "stream",
     "text": [
      "python\n"
     ]
    }
   ],
   "source": [
    "print(_123)"
   ]
  },
  {
   "cell_type": "code",
   "execution_count": 24,
   "id": "8ccfef4f",
   "metadata": {},
   "outputs": [],
   "source": [
    "course123='datascience123'"
   ]
  },
  {
   "cell_type": "code",
   "execution_count": 25,
   "id": "dea7c114",
   "metadata": {},
   "outputs": [
    {
     "name": "stdout",
     "output_type": "stream",
     "text": [
      "course123\n"
     ]
    }
   ],
   "source": [
    "print('course123')"
   ]
  },
  {
   "cell_type": "code",
   "execution_count": 26,
   "id": "2b6b4da7",
   "metadata": {},
   "outputs": [],
   "source": [
    "a=1"
   ]
  },
  {
   "cell_type": "code",
   "execution_count": 30,
   "id": "4e2d7910",
   "metadata": {},
   "outputs": [
    {
     "name": "stdout",
     "output_type": "stream",
     "text": [
      "1\n"
     ]
    },
    {
     "data": {
      "text/plain": [
       "int"
      ]
     },
     "execution_count": 30,
     "metadata": {},
     "output_type": "execute_result"
    }
   ],
   "source": [
    "print(a)\n",
    "type(a)"
   ]
  },
  {
   "cell_type": "code",
   "execution_count": 31,
   "id": "56a87492",
   "metadata": {},
   "outputs": [
    {
     "name": "stdout",
     "output_type": "stream",
     "text": [
      "1.2\n",
      "<class 'float'>\n"
     ]
    }
   ],
   "source": [
    "b=1.2\n",
    "print(b)\n",
    "print(type(b))"
   ]
  },
  {
   "cell_type": "code",
   "execution_count": 32,
   "id": "cf0c16d0",
   "metadata": {},
   "outputs": [
    {
     "name": "stdout",
     "output_type": "stream",
     "text": [
      "python\n",
      "<class 'str'>\n"
     ]
    }
   ],
   "source": [
    "c='python'\n",
    "print(c)\n",
    "print(type(c))"
   ]
  },
  {
   "cell_type": "code",
   "execution_count": 38,
   "id": "57869ee6",
   "metadata": {},
   "outputs": [
    {
     "name": "stdout",
     "output_type": "stream",
     "text": [
      "1 1.2 python\n",
      "<class 'int'> <class 'float'> <class 'str'>\n"
     ]
    }
   ],
   "source": [
    "a=1\n",
    "b=1.2\n",
    "c='python'\n",
    "print(a, b,c)\n",
    "print(type(a),type(b),type(c))\n"
   ]
  },
  {
   "cell_type": "code",
   "execution_count": 39,
   "id": "a3d494dc",
   "metadata": {},
   "outputs": [],
   "source": [
    "a=12\n",
    "b=12"
   ]
  },
  {
   "cell_type": "code",
   "execution_count": 40,
   "id": "e4219509",
   "metadata": {},
   "outputs": [
    {
     "name": "stdout",
     "output_type": "stream",
     "text": [
      "12 12\n"
     ]
    }
   ],
   "source": [
    "print(a,b)"
   ]
  },
  {
   "cell_type": "code",
   "execution_count": 41,
   "id": "27fa8119",
   "metadata": {},
   "outputs": [],
   "source": [
    "a=12\n",
    "b=a"
   ]
  },
  {
   "cell_type": "code",
   "execution_count": 42,
   "id": "c0be3d85",
   "metadata": {},
   "outputs": [
    {
     "name": "stdout",
     "output_type": "stream",
     "text": [
      "12\n"
     ]
    }
   ],
   "source": [
    "print(b)"
   ]
  },
  {
   "cell_type": "code",
   "execution_count": 44,
   "id": "734563ea",
   "metadata": {},
   "outputs": [
    {
     "name": "stdout",
     "output_type": "stream",
     "text": [
      "7\n"
     ]
    }
   ],
   "source": [
    "age=7\n",
    "print(age)"
   ]
  },
  {
   "cell_type": "code",
   "execution_count": 45,
   "id": "a77fde14",
   "metadata": {},
   "outputs": [
    {
     "name": "stdout",
     "output_type": "stream",
     "text": [
      "python\n",
      "python\n",
      "python\n"
     ]
    }
   ],
   "source": [
    "x=y=z='python'\n",
    "print(x)\n",
    "print(y)\n",
    "print(z)"
   ]
  },
  {
   "cell_type": "code",
   "execution_count": 46,
   "id": "dfd9d122",
   "metadata": {},
   "outputs": [],
   "source": [
    "a,b,c=1,2,3"
   ]
  },
  {
   "cell_type": "code",
   "execution_count": 47,
   "id": "5ea1d474",
   "metadata": {},
   "outputs": [
    {
     "name": "stdout",
     "output_type": "stream",
     "text": [
      "1 2 3\n"
     ]
    }
   ],
   "source": [
    "print(a,b,c)"
   ]
  },
  {
   "cell_type": "code",
   "execution_count": 48,
   "id": "8dfb658b",
   "metadata": {},
   "outputs": [],
   "source": [
    "a,b,c='python',1.2,1"
   ]
  },
  {
   "cell_type": "code",
   "execution_count": 49,
   "id": "77c8cea7",
   "metadata": {},
   "outputs": [
    {
     "name": "stdout",
     "output_type": "stream",
     "text": [
      "python 1.2 1\n"
     ]
    }
   ],
   "source": [
    "print(a,b,c)"
   ]
  },
  {
   "cell_type": "code",
   "execution_count": 50,
   "id": "fd46a204",
   "metadata": {},
   "outputs": [],
   "source": [
    "age='dinosour'"
   ]
  },
  {
   "cell_type": "code",
   "execution_count": 52,
   "id": "a929deb7",
   "metadata": {},
   "outputs": [
    {
     "name": "stdout",
     "output_type": "stream",
     "text": [
      "dinosour\n"
     ]
    }
   ],
   "source": [
    "print(age)"
   ]
  },
  {
   "cell_type": "code",
   "execution_count": 53,
   "id": "153cea64",
   "metadata": {},
   "outputs": [],
   "source": [
    "age,city=21,'indore'"
   ]
  },
  {
   "cell_type": "code",
   "execution_count": 54,
   "id": "69d570b5",
   "metadata": {},
   "outputs": [
    {
     "name": "stdout",
     "output_type": "stream",
     "text": [
      "21 indore\n"
     ]
    }
   ],
   "source": [
    "print(age,city)"
   ]
  },
  {
   "cell_type": "code",
   "execution_count": 56,
   "id": "0ff10cf6",
   "metadata": {},
   "outputs": [
    {
     "name": "stdout",
     "output_type": "stream",
     "text": [
      "<class 'int'> <class 'str'>\n"
     ]
    }
   ],
   "source": [
    "print(type(age),type(city))"
   ]
  },
  {
   "cell_type": "code",
   "execution_count": 58,
   "id": "771f5290",
   "metadata": {},
   "outputs": [
    {
     "name": "stdout",
     "output_type": "stream",
     "text": [
      "7\n",
      "7\n"
     ]
    }
   ],
   "source": [
    "age=fav=7\n",
    "print(age)\n",
    "print(fav)"
   ]
  },
  {
   "cell_type": "code",
   "execution_count": 62,
   "id": "ae813293",
   "metadata": {},
   "outputs": [],
   "source": [
    "a,b='red','blue'"
   ]
  },
  {
   "cell_type": "code",
   "execution_count": 63,
   "id": "493ce7a4",
   "metadata": {},
   "outputs": [],
   "source": [
    "a,b=b,a"
   ]
  },
  {
   "cell_type": "code",
   "execution_count": 64,
   "id": "d1b54295",
   "metadata": {},
   "outputs": [
    {
     "name": "stdout",
     "output_type": "stream",
     "text": [
      "blue\n",
      "red\n"
     ]
    }
   ],
   "source": [
    "print(a)\n",
    "print(b)"
   ]
  },
  {
   "cell_type": "code",
   "execution_count": 65,
   "id": "325799cd",
   "metadata": {},
   "outputs": [],
   "source": [
    "a='red'\n",
    "del a"
   ]
  },
  {
   "cell_type": "code",
   "execution_count": 66,
   "id": "ce038c98",
   "metadata": {},
   "outputs": [
    {
     "ename": "NameError",
     "evalue": "name 'a' is not defined",
     "output_type": "error",
     "traceback": [
      "\u001b[1;31m---------------------------------------------------------------------------\u001b[0m",
      "\u001b[1;31mNameError\u001b[0m                                 Traceback (most recent call last)",
      "Cell \u001b[1;32mIn[66], line 1\u001b[0m\n\u001b[1;32m----> 1\u001b[0m a\n",
      "\u001b[1;31mNameError\u001b[0m: name 'a' is not defined"
     ]
    }
   ],
   "source": [
    "a"
   ]
  },
  {
   "cell_type": "code",
   "execution_count": 67,
   "id": "5b1d4281",
   "metadata": {},
   "outputs": [
    {
     "name": "stdout",
     "output_type": "stream",
     "text": [
      "BMW\n",
      "Oddi\n",
      "Marsedics\n"
     ]
    }
   ],
   "source": [
    "cAr='BMW'\n",
    "Car='Oddi'\n",
    "caR='Marsedics'\n",
    "print(cAr)\n",
    "print(Car)\n",
    "print(caR)"
   ]
  },
  {
   "cell_type": "code",
   "execution_count": null,
   "id": "1e1977d9",
   "metadata": {},
   "outputs": [],
   "source": []
  }
 ],
 "metadata": {
  "kernelspec": {
   "display_name": "Python 3 (ipykernel)",
   "language": "python",
   "name": "python3"
  },
  "language_info": {
   "codemirror_mode": {
    "name": "ipython",
    "version": 3
   },
   "file_extension": ".py",
   "mimetype": "text/x-python",
   "name": "python",
   "nbconvert_exporter": "python",
   "pygments_lexer": "ipython3",
   "version": "3.11.5"
  }
 },
 "nbformat": 4,
 "nbformat_minor": 5
}
