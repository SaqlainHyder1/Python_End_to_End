{
 "cells": [
  {
   "cell_type": "markdown",
   "id": "ef4abbaf",
   "metadata": {},
   "source": [
    "                            Print Condition"
   ]
  },
  {
   "cell_type": "raw",
   "id": "456af653",
   "metadata": {},
   "source": [
    "- in python we can print anything using single quates,double quates & triple quates.\n",
    "- in real time eveyone will use the single quates.\n",
    "print(\"\"\"My name is Saqqu\"\"\") #python version1\n",
    "print(\"my name is saqqu\") #python version2\n",
    "print('my name is saqqu') #python present version"
   ]
  },
  {
   "cell_type": "code",
   "execution_count": 1,
   "id": "d90cc1a9",
   "metadata": {},
   "outputs": [
    {
     "name": "stdout",
     "output_type": "stream",
     "text": [
      "my name is saqqu\n"
     ]
    }
   ],
   "source": [
    "print(\"\"\"my name is saqqu\"\"\")"
   ]
  },
  {
   "cell_type": "code",
   "execution_count": 2,
   "id": "22227dae",
   "metadata": {},
   "outputs": [
    {
     "name": "stdout",
     "output_type": "stream",
     "text": [
      "my name is saqqu\n"
     ]
    }
   ],
   "source": [
    "print(\"my name is saqqu\")"
   ]
  },
  {
   "cell_type": "code",
   "execution_count": 3,
   "id": "7ab50d67",
   "metadata": {},
   "outputs": [
    {
     "name": "stdout",
     "output_type": "stream",
     "text": [
      "my name is saqqu\n"
     ]
    }
   ],
   "source": [
    "print('my name is saqqu')"
   ]
  },
  {
   "cell_type": "markdown",
   "id": "19a4a015",
   "metadata": {},
   "source": [
    "                        Type Converstions"
   ]
  },
  {
   "cell_type": "raw",
   "id": "080f022c",
   "metadata": {},
   "source": [
    "Chaning one data type to another data type is known as type converstions.\n",
    "int-float,int-str\n",
    "float-int,float-str\n",
    "str-int,str-float"
   ]
  },
  {
   "cell_type": "code",
   "execution_count": 4,
   "id": "96b78893",
   "metadata": {},
   "outputs": [
    {
     "name": "stdout",
     "output_type": "stream",
     "text": [
      "10\n",
      "10.0\n",
      "<class 'int'>\n",
      "<class 'float'>\n"
     ]
    }
   ],
   "source": [
    "#int-float\n",
    "a=10\n",
    "b=float(a)\n",
    "print(a)\n",
    "print(b)\n",
    "print(type(a))\n",
    "print(type(b))"
   ]
  },
  {
   "cell_type": "code",
   "execution_count": 5,
   "id": "d2676138",
   "metadata": {},
   "outputs": [
    {
     "name": "stdout",
     "output_type": "stream",
     "text": [
      "10\n",
      "10\n",
      "<class 'int'>\n",
      "<class 'str'>\n"
     ]
    }
   ],
   "source": [
    "#int-str\n",
    "a=10\n",
    "b=str(a)\n",
    "print(a)\n",
    "print(b)\n",
    "print(type(a))\n",
    "print(type(b))"
   ]
  },
  {
   "cell_type": "code",
   "execution_count": 6,
   "id": "e929f620",
   "metadata": {},
   "outputs": [
    {
     "name": "stdout",
     "output_type": "stream",
     "text": [
      "10.02\n",
      "10\n",
      "<class 'float'>\n",
      "<class 'int'>\n"
     ]
    }
   ],
   "source": [
    "#float-int\n",
    "a=10.02\n",
    "b=int(a)\n",
    "print(a)\n",
    "print(b)\n",
    "print(type(a))\n",
    "print(type(b))"
   ]
  },
  {
   "cell_type": "code",
   "execution_count": 7,
   "id": "cd4e29f0",
   "metadata": {},
   "outputs": [
    {
     "name": "stdout",
     "output_type": "stream",
     "text": [
      "10.09\n",
      "10.09\n",
      "<class 'float'>\n",
      "<class 'str'>\n"
     ]
    }
   ],
   "source": [
    "#float-str\n",
    "a=10.09\n",
    "b=str(a)\n",
    "print(a)\n",
    "print(b)\n",
    "print(type(a))\n",
    "print(type(b))"
   ]
  },
  {
   "cell_type": "code",
   "execution_count": 8,
   "id": "f337344f",
   "metadata": {},
   "outputs": [
    {
     "name": "stdout",
     "output_type": "stream",
     "text": [
      "10\n",
      "10\n",
      "<class 'str'>\n",
      "<class 'int'>\n"
     ]
    }
   ],
   "source": [
    "#str-int\n",
    "a='10'\n",
    "b=int(a)\n",
    "print(a)\n",
    "print(b)\n",
    "print(type(a))\n",
    "print(type(b))"
   ]
  },
  {
   "cell_type": "code",
   "execution_count": 9,
   "id": "3667746f",
   "metadata": {},
   "outputs": [
    {
     "name": "stdout",
     "output_type": "stream",
     "text": [
      "10\n",
      "10.0\n",
      "<class 'str'>\n",
      "<class 'float'>\n"
     ]
    }
   ],
   "source": [
    "#str-float\n",
    "a='10'\n",
    "b=float(a)\n",
    "print(a)\n",
    "print(b)\n",
    "print(type(a))\n",
    "print(type(b))"
   ]
  },
  {
   "cell_type": "markdown",
   "id": "48ea8d5b",
   "metadata": {},
   "source": [
    "                           Uses of Print"
   ]
  },
  {
   "cell_type": "raw",
   "id": "72bd6ec1",
   "metadata": {},
   "source": [
    "- we can call a varaible from the memory and also we can print whatever we need by just passing string inside the print\n",
    "\n",
    "we can add a string and varaible to the print condition using some ways:\n",
    "- using ,\n",
    "- using +,&\n",
    "- using f'{}'.\n",
    "using ,(comma):\n",
    "    - ,comma is used to add a string and variable to the print condition.\n",
    "    - , is also provided 1 tab space defualtly.\n",
    "    \n",
    "using +:\n",
    "    - using + it will add a string or variable if both are string\n",
    "    - but it does'nt give any tab space.\n",
    "    \n",
    "using {}:\n",
    "    - in real time every one is using {}.\n",
    "    - it is easy to use."
   ]
  },
  {
   "cell_type": "code",
   "execution_count": 10,
   "id": "ef3d7573",
   "metadata": {},
   "outputs": [
    {
     "name": "stdout",
     "output_type": "stream",
     "text": [
      "my age is: 30\n"
     ]
    }
   ],
   "source": [
    "b=30\n",
    "print('my age is:',b)"
   ]
  },
  {
   "cell_type": "code",
   "execution_count": 12,
   "id": "2a32e4e1",
   "metadata": {},
   "outputs": [
    {
     "name": "stdout",
     "output_type": "stream",
     "text": [
      "i spent 10 rs in 50.5 hrs\n"
     ]
    }
   ],
   "source": [
    "a=10\n",
    "b=50.5\n",
    "#i spent 10 rs in 50.5 hrs\n",
    "print('i spent',a,'rs in',b,'hrs')"
   ]
  },
  {
   "cell_type": "code",
   "execution_count": 14,
   "id": "14dfec34",
   "metadata": {},
   "outputs": [
    {
     "name": "stdout",
     "output_type": "stream",
     "text": [
      "my age is30\n"
     ]
    }
   ],
   "source": [
    "a=30\n",
    "print('my age is'+str(a))"
   ]
  },
  {
   "cell_type": "code",
   "execution_count": 15,
   "id": "f6407afb",
   "metadata": {},
   "outputs": [
    {
     "name": "stdout",
     "output_type": "stream",
     "text": [
      "i spent10rs in50.5hrs\n"
     ]
    }
   ],
   "source": [
    "a=10\n",
    "b=50.5\n",
    "#i spent 10 rs in 50.5 hrs\n",
    "print('i spent'+str(a)+'rs in'+str(b)+'hrs')"
   ]
  },
  {
   "cell_type": "code",
   "execution_count": 16,
   "id": "cb66de52",
   "metadata": {},
   "outputs": [
    {
     "name": "stdout",
     "output_type": "stream",
     "text": [
      "my age is 30\n"
     ]
    }
   ],
   "source": [
    "a=30\n",
    "print(f'my age is {a}')"
   ]
  },
  {
   "cell_type": "code",
   "execution_count": 17,
   "id": "79f4be91",
   "metadata": {},
   "outputs": [
    {
     "name": "stdout",
     "output_type": "stream",
     "text": [
      "i spent 10 rs in 50.5 hrs\n"
     ]
    }
   ],
   "source": [
    "a=10\n",
    "b=50.5\n",
    "#i spent 10 rs in 50.5 hrs\n",
    "print(f'i spent {a} rs in {b} hrs')"
   ]
  },
  {
   "cell_type": "code",
   "execution_count": null,
   "id": "47135e76",
   "metadata": {},
   "outputs": [],
   "source": []
  }
 ],
 "metadata": {
  "kernelspec": {
   "display_name": "Python 3 (ipykernel)",
   "language": "python",
   "name": "python3"
  },
  "language_info": {
   "codemirror_mode": {
    "name": "ipython",
    "version": 3
   },
   "file_extension": ".py",
   "mimetype": "text/x-python",
   "name": "python",
   "nbconvert_exporter": "python",
   "pygments_lexer": "ipython3",
   "version": "3.11.5"
  }
 },
 "nbformat": 4,
 "nbformat_minor": 5
}
