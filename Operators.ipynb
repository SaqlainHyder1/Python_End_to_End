{
 "cells": [
  {
   "cell_type": "markdown",
   "id": "26d145b4",
   "metadata": {},
   "source": [
    "                            Operators"
   ]
  },
  {
   "cell_type": "raw",
   "id": "7e7dd870",
   "metadata": {},
   "source": [
    "Python Opertors:\n",
    "    - Arthametic Operators - +,-,*,/,//,%,**\n",
    "    - Assignment Operators - +=,-=,*=,/=,//=,\n",
    "    - Comparssion Operators - <,>,<=,>=,=,==,!=\n",
    "    - Logical Operators - &,^,|\n",
    "    - Identify Operators -is,is not\n",
    "    - bitwise Operators - and,or,not\n",
    "    - Membership Operators - in,not in  "
   ]
  },
  {
   "cell_type": "raw",
   "id": "94859fe8",
   "metadata": {},
   "source": [
    "+  - Addtion\n",
    "-  - Subraction\n",
    "*  - Multiplacation\n",
    "/  - Division   #it gives the coffient value\n",
    "// - Floor Division #it gives the cofficent values but not after decimals \n",
    "pow- power function\n",
    "<  - less than\n",
    ">  - grether than\n",
    "<= - lessthan equals to\n",
    ">= - grether than equals to\n",
    "=  - equals to\n",
    "== - double eqauls to\n",
    "!= - is not equals to\n",
    "%  - mod operator # it gives the reminder\n",
    "** - power\n"
   ]
  },
  {
   "cell_type": "code",
   "execution_count": 1,
   "id": "d05afa7a",
   "metadata": {},
   "outputs": [
    {
     "data": {
      "text/plain": [
       "30"
      ]
     },
     "execution_count": 1,
     "metadata": {},
     "output_type": "execute_result"
    }
   ],
   "source": [
    "#add\n",
    "a=10\n",
    "b=20\n",
    "a+b"
   ]
  },
  {
   "cell_type": "code",
   "execution_count": null,
   "id": "1b12eef0",
   "metadata": {},
   "outputs": [],
   "source": []
  },
  {
   "cell_type": "code",
   "execution_count": null,
   "id": "6fc8a24b",
   "metadata": {},
   "outputs": [],
   "source": []
  },
  {
   "cell_type": "code",
   "execution_count": 2,
   "id": "47b6a14d",
   "metadata": {},
   "outputs": [
    {
     "data": {
      "text/plain": [
       "10"
      ]
     },
     "execution_count": 2,
     "metadata": {},
     "output_type": "execute_result"
    }
   ],
   "source": [
    "#sub\n",
    "a=10\n",
    "b=20\n",
    "b-a"
   ]
  },
  {
   "cell_type": "code",
   "execution_count": 3,
   "id": "c0556dea",
   "metadata": {},
   "outputs": [
    {
     "data": {
      "text/plain": [
       "200"
      ]
     },
     "execution_count": 3,
     "metadata": {},
     "output_type": "execute_result"
    }
   ],
   "source": [
    "#multiplacation\n",
    "a=10\n",
    "b=20\n",
    "a*b"
   ]
  },
  {
   "cell_type": "code",
   "execution_count": 5,
   "id": "f07f0ca3",
   "metadata": {},
   "outputs": [
    {
     "data": {
      "text/plain": [
       "10.0"
      ]
     },
     "execution_count": 5,
     "metadata": {},
     "output_type": "execute_result"
    }
   ],
   "source": [
    "#division\n",
    "a=20\n",
    "b=2\n",
    "a/b"
   ]
  },
  {
   "cell_type": "code",
   "execution_count": 6,
   "id": "3213df12",
   "metadata": {},
   "outputs": [
    {
     "data": {
      "text/plain": [
       "10"
      ]
     },
     "execution_count": 6,
     "metadata": {},
     "output_type": "execute_result"
    }
   ],
   "source": [
    "#// floor division\n",
    "a=20\n",
    "b=2\n",
    "a//b"
   ]
  },
  {
   "cell_type": "code",
   "execution_count": 7,
   "id": "0bcb8b28",
   "metadata": {},
   "outputs": [
    {
     "data": {
      "text/plain": [
       "400"
      ]
     },
     "execution_count": 7,
     "metadata": {},
     "output_type": "execute_result"
    }
   ],
   "source": [
    "# pow\n",
    "pow(a,b)"
   ]
  },
  {
   "cell_type": "code",
   "execution_count": 10,
   "id": "5b84e0d7",
   "metadata": {},
   "outputs": [
    {
     "data": {
      "text/plain": [
       "100"
      ]
     },
     "execution_count": 10,
     "metadata": {},
     "output_type": "execute_result"
    }
   ],
   "source": [
    "x=10\n",
    "y=2\n",
    "pow(x,y)"
   ]
  },
  {
   "cell_type": "code",
   "execution_count": 11,
   "id": "8a29ce09",
   "metadata": {},
   "outputs": [
    {
     "data": {
      "text/plain": [
       "False"
      ]
     },
     "execution_count": 11,
     "metadata": {},
     "output_type": "execute_result"
    }
   ],
   "source": [
    "# < > lesserthan and grethar than\n",
    "a=10\n",
    "b=20\n",
    "a>b"
   ]
  },
  {
   "cell_type": "code",
   "execution_count": 12,
   "id": "61308eb2",
   "metadata": {},
   "outputs": [
    {
     "data": {
      "text/plain": [
       "True"
      ]
     },
     "execution_count": 12,
     "metadata": {},
     "output_type": "execute_result"
    }
   ],
   "source": [
    "a<b"
   ]
  },
  {
   "cell_type": "code",
   "execution_count": 13,
   "id": "9bed95db",
   "metadata": {},
   "outputs": [
    {
     "data": {
      "text/plain": [
       "False"
      ]
     },
     "execution_count": 13,
     "metadata": {},
     "output_type": "execute_result"
    }
   ],
   "source": [
    "#lesserthan equals to and grether than equals to\n",
    "a=10\n",
    "b=20\n",
    "a>=b"
   ]
  },
  {
   "cell_type": "code",
   "execution_count": 14,
   "id": "3d631732",
   "metadata": {},
   "outputs": [
    {
     "data": {
      "text/plain": [
       "True"
      ]
     },
     "execution_count": 14,
     "metadata": {},
     "output_type": "execute_result"
    }
   ],
   "source": [
    "a<=b"
   ]
  },
  {
   "cell_type": "code",
   "execution_count": 16,
   "id": "05228826",
   "metadata": {},
   "outputs": [
    {
     "data": {
      "text/plain": [
       "True"
      ]
     },
     "execution_count": 16,
     "metadata": {},
     "output_type": "execute_result"
    }
   ],
   "source": [
    "#equals and not equals to and double equals to\n",
    "a=10 #equals to \n",
    "a!=10\n",
    "a==10"
   ]
  },
  {
   "cell_type": "code",
   "execution_count": 17,
   "id": "fad7047d",
   "metadata": {},
   "outputs": [
    {
     "data": {
      "text/plain": [
       "1"
      ]
     },
     "execution_count": 17,
     "metadata": {},
     "output_type": "execute_result"
    }
   ],
   "source": [
    "#% mod operator\n",
    "a=10\n",
    "b=3\n",
    "a%b"
   ]
  },
  {
   "cell_type": "code",
   "execution_count": 21,
   "id": "cd2d9f5d",
   "metadata": {},
   "outputs": [
    {
     "name": "stdout",
     "output_type": "stream",
     "text": [
      "17\n"
     ]
    }
   ],
   "source": [
    "x=8\n",
    "y=9\n",
    "print(x+y)"
   ]
  },
  {
   "cell_type": "code",
   "execution_count": 22,
   "id": "7a6fd273",
   "metadata": {},
   "outputs": [],
   "source": [
    "x=89\n",
    "y=90"
   ]
  },
  {
   "cell_type": "code",
   "execution_count": 23,
   "id": "814a992e",
   "metadata": {},
   "outputs": [
    {
     "name": "stdout",
     "output_type": "stream",
     "text": [
      "-1\n"
     ]
    }
   ],
   "source": [
    "print(x-y)"
   ]
  },
  {
   "cell_type": "code",
   "execution_count": 24,
   "id": "4e98bf8e",
   "metadata": {},
   "outputs": [
    {
     "name": "stdout",
     "output_type": "stream",
     "text": [
      "32\n"
     ]
    }
   ],
   "source": [
    "x=4\n",
    "y=8\n",
    "print(x*y)"
   ]
  },
  {
   "cell_type": "code",
   "execution_count": 25,
   "id": "e7087dbe",
   "metadata": {},
   "outputs": [
    {
     "name": "stdout",
     "output_type": "stream",
     "text": [
      "0.6292134831460674\n"
     ]
    }
   ],
   "source": [
    "x=56\n",
    "y=89\n",
    "print(x/y)"
   ]
  },
  {
   "cell_type": "code",
   "execution_count": 26,
   "id": "c871abbe",
   "metadata": {},
   "outputs": [
    {
     "name": "stdout",
     "output_type": "stream",
     "text": [
      "7\n"
     ]
    }
   ],
   "source": [
    "x=7\n",
    "y=9\n",
    "print(x%y)"
   ]
  },
  {
   "cell_type": "code",
   "execution_count": 27,
   "id": "5bb709fa",
   "metadata": {},
   "outputs": [
    {
     "name": "stdout",
     "output_type": "stream",
     "text": [
      "32\n"
     ]
    }
   ],
   "source": [
    "x=2\n",
    "y=5\n",
    "print(x**y)"
   ]
  },
  {
   "cell_type": "code",
   "execution_count": 28,
   "id": "7788ee06",
   "metadata": {},
   "outputs": [
    {
     "name": "stdout",
     "output_type": "stream",
     "text": [
      "0\n"
     ]
    }
   ],
   "source": [
    "print(x//y)"
   ]
  },
  {
   "cell_type": "code",
   "execution_count": 29,
   "id": "d0a6a391",
   "metadata": {},
   "outputs": [
    {
     "name": "stdout",
     "output_type": "stream",
     "text": [
      "11\n"
     ]
    }
   ],
   "source": [
    "#assignment operator\n",
    "x=7\n",
    "x+=4 #x=x+4,x=7+4=11\n",
    "print(x)"
   ]
  },
  {
   "cell_type": "code",
   "execution_count": 30,
   "id": "8dd7845b",
   "metadata": {},
   "outputs": [
    {
     "name": "stdout",
     "output_type": "stream",
     "text": [
      "-3\n"
     ]
    }
   ],
   "source": [
    "x=6\n",
    "x-=9 #x=x-9=6-9=-3\n",
    "print(x) "
   ]
  },
  {
   "cell_type": "code",
   "execution_count": 31,
   "id": "42b20b24",
   "metadata": {},
   "outputs": [],
   "source": [
    "x=5\n",
    "x*=3 #x=x*3=5*3=15"
   ]
  },
  {
   "cell_type": "code",
   "execution_count": 32,
   "id": "9d394962",
   "metadata": {},
   "outputs": [
    {
     "name": "stdout",
     "output_type": "stream",
     "text": [
      "15\n"
     ]
    }
   ],
   "source": [
    "print(x)"
   ]
  },
  {
   "cell_type": "code",
   "execution_count": 33,
   "id": "91b1be84",
   "metadata": {},
   "outputs": [
    {
     "data": {
      "text/plain": [
       "0.7692307692307693"
      ]
     },
     "execution_count": 33,
     "metadata": {},
     "output_type": "execute_result"
    }
   ],
   "source": [
    "x=60\n",
    "x/=78 \n",
    "x"
   ]
  },
  {
   "cell_type": "code",
   "execution_count": 34,
   "id": "3bafdca5",
   "metadata": {},
   "outputs": [
    {
     "data": {
      "text/plain": [
       "2"
      ]
     },
     "execution_count": 34,
     "metadata": {},
     "output_type": "execute_result"
    }
   ],
   "source": [
    "x=5\n",
    "x%=3\n",
    "x"
   ]
  },
  {
   "cell_type": "code",
   "execution_count": 35,
   "id": "af27f437",
   "metadata": {},
   "outputs": [],
   "source": [
    "x=7\n",
    "x//=6"
   ]
  },
  {
   "cell_type": "code",
   "execution_count": 36,
   "id": "25b2adb9",
   "metadata": {},
   "outputs": [
    {
     "data": {
      "text/plain": [
       "1"
      ]
     },
     "execution_count": 36,
     "metadata": {},
     "output_type": "execute_result"
    }
   ],
   "source": [
    "x"
   ]
  },
  {
   "cell_type": "code",
   "execution_count": 37,
   "id": "46d72b96",
   "metadata": {},
   "outputs": [
    {
     "data": {
      "text/plain": [
       "262144"
      ]
     },
     "execution_count": 37,
     "metadata": {},
     "output_type": "execute_result"
    }
   ],
   "source": [
    "x=4\n",
    "x**=9\n",
    "x\n"
   ]
  },
  {
   "cell_type": "code",
   "execution_count": 38,
   "id": "e1b5e055",
   "metadata": {},
   "outputs": [
    {
     "data": {
      "text/plain": [
       "2"
      ]
     },
     "execution_count": 38,
     "metadata": {},
     "output_type": "execute_result"
    }
   ],
   "source": [
    "x=24\n",
    "x//=9\n",
    "x"
   ]
  },
  {
   "cell_type": "code",
   "execution_count": 39,
   "id": "492a6ff5",
   "metadata": {},
   "outputs": [
    {
     "name": "stdout",
     "output_type": "stream",
     "text": [
      "False\n"
     ]
    }
   ],
   "source": [
    "#comparssion operators\n",
    "x=4\n",
    "y=8\n",
    "print(x==y)"
   ]
  },
  {
   "cell_type": "code",
   "execution_count": 40,
   "id": "ea46e3ae",
   "metadata": {},
   "outputs": [
    {
     "name": "stdout",
     "output_type": "stream",
     "text": [
      "True\n"
     ]
    }
   ],
   "source": [
    "x=6\n",
    "y=9\n",
    "print(x!=y)"
   ]
  },
  {
   "cell_type": "code",
   "execution_count": 41,
   "id": "527bb661",
   "metadata": {},
   "outputs": [
    {
     "name": "stdout",
     "output_type": "stream",
     "text": [
      "True\n"
     ]
    }
   ],
   "source": [
    "x=8\n",
    "y=5\n",
    "print(x>y)"
   ]
  },
  {
   "cell_type": "code",
   "execution_count": 42,
   "id": "4e6aaf10",
   "metadata": {},
   "outputs": [
    {
     "name": "stdout",
     "output_type": "stream",
     "text": [
      "True\n"
     ]
    }
   ],
   "source": [
    "x=4\n",
    "y=9\n",
    "print(x<y)"
   ]
  },
  {
   "cell_type": "code",
   "execution_count": 43,
   "id": "d105251f",
   "metadata": {},
   "outputs": [
    {
     "name": "stdout",
     "output_type": "stream",
     "text": [
      "True\n"
     ]
    }
   ],
   "source": [
    "x=9\n",
    "y=3\n",
    "print(x>=y)"
   ]
  },
  {
   "cell_type": "code",
   "execution_count": 44,
   "id": "8238f4e1",
   "metadata": {},
   "outputs": [
    {
     "name": "stdout",
     "output_type": "stream",
     "text": [
      "True\n"
     ]
    }
   ],
   "source": [
    "x=6\n",
    "y=9\n",
    "print(x<=y)"
   ]
  },
  {
   "cell_type": "code",
   "execution_count": 45,
   "id": "5bea9f7f",
   "metadata": {},
   "outputs": [
    {
     "name": "stdout",
     "output_type": "stream",
     "text": [
      "False\n"
     ]
    }
   ],
   "source": [
    "#logical operators\n",
    "x=9\n",
    "y=12\n",
    "print(x>3 and y<10)"
   ]
  },
  {
   "cell_type": "code",
   "execution_count": 46,
   "id": "002cfc8a",
   "metadata": {},
   "outputs": [
    {
     "name": "stdout",
     "output_type": "stream",
     "text": [
      "True\n"
     ]
    }
   ],
   "source": [
    "x=7\n",
    "print(x>3 or x<4)"
   ]
  },
  {
   "cell_type": "code",
   "execution_count": 47,
   "id": "0e89999c",
   "metadata": {},
   "outputs": [
    {
     "data": {
      "text/plain": [
       "False"
      ]
     },
     "execution_count": 47,
     "metadata": {},
     "output_type": "execute_result"
    }
   ],
   "source": [
    "x<4\n"
   ]
  },
  {
   "cell_type": "code",
   "execution_count": 48,
   "id": "b19fc7fa",
   "metadata": {},
   "outputs": [
    {
     "name": "stdout",
     "output_type": "stream",
     "text": [
      "True\n"
     ]
    }
   ],
   "source": [
    "x=12\n",
    "print(not(x>3 and x<10))"
   ]
  },
  {
   "cell_type": "code",
   "execution_count": 49,
   "id": "ebf898ca",
   "metadata": {},
   "outputs": [
    {
     "name": "stdout",
     "output_type": "stream",
     "text": [
      "False\n"
     ]
    }
   ],
   "source": [
    "#identify operator\n",
    "x='i love python'\n",
    "y='i love india'\n",
    "print(x is y)"
   ]
  },
  {
   "cell_type": "code",
   "execution_count": 51,
   "id": "e1d1f2fa",
   "metadata": {},
   "outputs": [
    {
     "name": "stdout",
     "output_type": "stream",
     "text": [
      "True\n"
     ]
    }
   ],
   "source": [
    "a='i love python'\n",
    "b='i love python'\n",
    "print(a is not b)"
   ]
  },
  {
   "cell_type": "code",
   "execution_count": 52,
   "id": "1b2491cb",
   "metadata": {},
   "outputs": [
    {
     "name": "stdout",
     "output_type": "stream",
     "text": [
      "True\n"
     ]
    }
   ],
   "source": [
    "#membership operator\n",
    "x=['python','cloud']\n",
    "print('cloud' in x)"
   ]
  },
  {
   "cell_type": "code",
   "execution_count": 53,
   "id": "72c3bc24",
   "metadata": {},
   "outputs": [
    {
     "name": "stdout",
     "output_type": "stream",
     "text": [
      "False\n"
     ]
    }
   ],
   "source": [
    "#membership operator\n",
    "x=['python','cloud','king']\n",
    "print('cloud' not in x)"
   ]
  },
  {
   "cell_type": "code",
   "execution_count": 55,
   "id": "c15d7609",
   "metadata": {},
   "outputs": [
    {
     "name": "stderr",
     "output_type": "stream",
     "text": [
      "<>:1: SyntaxWarning: \"is\" with a literal. Did you mean \"==\"?\n",
      "<>:1: SyntaxWarning: \"is\" with a literal. Did you mean \"==\"?\n",
      "C:\\Users\\saqla\\AppData\\Local\\Temp\\ipykernel_19900\\332552227.py:1: SyntaxWarning: \"is\" with a literal. Did you mean \"==\"?\n",
      "  'python' is 'python'\n"
     ]
    },
    {
     "data": {
      "text/plain": [
       "True"
      ]
     },
     "execution_count": 55,
     "metadata": {},
     "output_type": "execute_result"
    }
   ],
   "source": [
    "'python' is 'python'"
   ]
  },
  {
   "cell_type": "code",
   "execution_count": 56,
   "id": "148d219a",
   "metadata": {},
   "outputs": [
    {
     "name": "stdout",
     "output_type": "stream",
     "text": [
      "b\n"
     ]
    }
   ],
   "source": [
    "a,b=8,9\n",
    "if a>b:\n",
    "    print(\"a\")\n",
    "else:\n",
    "    print('b')"
   ]
  },
  {
   "cell_type": "code",
   "execution_count": 59,
   "id": "982a45a2",
   "metadata": {},
   "outputs": [
    {
     "name": "stdout",
     "output_type": "stream",
     "text": [
      "9\n"
     ]
    }
   ],
   "source": [
    "a,b=7,9\n",
    "print('a' if a>b else b)"
   ]
  },
  {
   "cell_type": "code",
   "execution_count": 60,
   "id": "519cb934",
   "metadata": {},
   "outputs": [],
   "source": [
    "a,b=10,20\n",
    "min=a if a<b else b"
   ]
  },
  {
   "cell_type": "code",
   "execution_count": 61,
   "id": "4fb6dae8",
   "metadata": {},
   "outputs": [
    {
     "data": {
      "text/plain": [
       "10"
      ]
     },
     "execution_count": 61,
     "metadata": {},
     "output_type": "execute_result"
    }
   ],
   "source": [
    "\n",
    "min"
   ]
  },
  {
   "cell_type": "code",
   "execution_count": 62,
   "id": "66dc973c",
   "metadata": {},
   "outputs": [
    {
     "data": {
      "text/plain": [
       "'0b101'"
      ]
     },
     "execution_count": 62,
     "metadata": {},
     "output_type": "execute_result"
    }
   ],
   "source": [
    "bin(5)"
   ]
  },
  {
   "cell_type": "code",
   "execution_count": 63,
   "id": "18f637f3",
   "metadata": {},
   "outputs": [
    {
     "data": {
      "text/plain": [
       "'0b111'"
      ]
     },
     "execution_count": 63,
     "metadata": {},
     "output_type": "execute_result"
    }
   ],
   "source": [
    "bin(7)"
   ]
  },
  {
   "cell_type": "code",
   "execution_count": 64,
   "id": "fd1bdc0f",
   "metadata": {},
   "outputs": [
    {
     "data": {
      "text/plain": [
       "'0b11'"
      ]
     },
     "execution_count": 64,
     "metadata": {},
     "output_type": "execute_result"
    }
   ],
   "source": [
    "bin(3)"
   ]
  },
  {
   "cell_type": "code",
   "execution_count": 66,
   "id": "0174865d",
   "metadata": {},
   "outputs": [
    {
     "data": {
      "text/plain": [
       "0.5"
      ]
     },
     "execution_count": 66,
     "metadata": {},
     "output_type": "execute_result"
    }
   ],
   "source": [
    "True/2"
   ]
  },
  {
   "cell_type": "code",
   "execution_count": 69,
   "id": "6fad4604",
   "metadata": {},
   "outputs": [
    {
     "data": {
      "text/plain": [
       "0"
      ]
     },
     "execution_count": 69,
     "metadata": {},
     "output_type": "execute_result"
    }
   ],
   "source": [
    "False*2"
   ]
  },
  {
   "cell_type": "code",
   "execution_count": null,
   "id": "bda8881b",
   "metadata": {},
   "outputs": [],
   "source": []
  }
 ],
 "metadata": {
  "kernelspec": {
   "display_name": "Python 3 (ipykernel)",
   "language": "python",
   "name": "python3"
  },
  "language_info": {
   "codemirror_mode": {
    "name": "ipython",
    "version": 3
   },
   "file_extension": ".py",
   "mimetype": "text/x-python",
   "name": "python",
   "nbconvert_exporter": "python",
   "pygments_lexer": "ipython3",
   "version": "3.11.5"
  }
 },
 "nbformat": 4,
 "nbformat_minor": 5
}
